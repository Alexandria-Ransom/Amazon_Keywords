{
 "cells": [
  {
   "cell_type": "markdown",
   "metadata": {},
   "source": [
    "# Data Visualization in Tableau\n",
    "\n",
    "[Amazon_Keywords_Tableau_Visualization](https://public.tableau.com/views/Version1_1_V3/Dashboard1?:language=en-US&:display_count=n&:origin=viz_share_link)"
   ]
  }
 ],
 "metadata": {
  "language_info": {
   "name": "python"
  },
  "orig_nbformat": 4
 },
 "nbformat": 4,
 "nbformat_minor": 2
}
