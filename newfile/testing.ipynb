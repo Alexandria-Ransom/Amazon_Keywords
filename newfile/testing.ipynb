{
 "cells": [
  {
   "cell_type": "code",
   "execution_count": 12,
   "metadata": {},
   "outputs": [
    {
     "data": {
      "text/plain": [
       "'..\\\\data\\\\final_combined_csv\\\\ecom_search_keywords'"
      ]
     },
     "execution_count": 12,
     "metadata": {},
     "output_type": "execute_result"
    }
   ],
   "source": [
    "import os #operating system\n",
    "import pandas as pd\n",
    "os.path.join(\"..\", \"data\", \"final_combined_csv\", \"ecom_search_keywords\") #combines for your operating systems "
   ]
  },
  {
   "cell_type": "code",
   "execution_count": null,
   "metadata": {},
   "outputs": [],
   "source": [
    "df = pd.read_csv"
   ]
  },
  {
   "cell_type": "code",
   "execution_count": 13,
   "metadata": {},
   "outputs": [
    {
     "data": {
      "text/html": [
       "<div>\n",
       "<style scoped>\n",
       "    .dataframe tbody tr th:only-of-type {\n",
       "        vertical-align: middle;\n",
       "    }\n",
       "\n",
       "    .dataframe tbody tr th {\n",
       "        vertical-align: top;\n",
       "    }\n",
       "\n",
       "    .dataframe thead th {\n",
       "        text-align: right;\n",
       "    }\n",
       "</style>\n",
       "<table border=\"1\" class=\"dataframe\">\n",
       "  <thead>\n",
       "    <tr style=\"text-align: right;\">\n",
       "      <th></th>\n",
       "      <th>Unnamed: 0</th>\n",
       "      <th>product_name</th>\n",
       "      <th>brand</th>\n",
       "      <th>price</th>\n",
       "      <th>monthly_sales</th>\n",
       "      <th>daily_sales</th>\n",
       "      <th>monthly_revenue</th>\n",
       "      <th>date_first_available</th>\n",
       "      <th>net</th>\n",
       "      <th>rating_number</th>\n",
       "      <th>rating</th>\n",
       "      <th>fees</th>\n",
       "      <th>product_rank</th>\n",
       "      <th>category</th>\n",
       "      <th>asin</th>\n",
       "      <th>link</th>\n",
       "    </tr>\n",
       "  </thead>\n",
       "  <tbody>\n",
       "    <tr>\n",
       "      <th>0</th>\n",
       "      <td>0</td>\n",
       "      <td>Organic Bath Bombs - 25 Extra Large Pcs + 3 Bu...</td>\n",
       "      <td>Lagunamoon</td>\n",
       "      <td>23.99</td>\n",
       "      <td>3768.0</td>\n",
       "      <td>125.0</td>\n",
       "      <td>90394.0</td>\n",
       "      <td>03/08/2020</td>\n",
       "      <td>14.60</td>\n",
       "      <td>4550</td>\n",
       "      <td>4.4</td>\n",
       "      <td>9.39</td>\n",
       "      <td>6475.0</td>\n",
       "      <td>Beauty &amp; Personal Care</td>\n",
       "      <td>B085NJ7ZNN</td>\n",
       "      <td>https://www.amazon.com/dp/B085NJ7ZNN</td>\n",
       "    </tr>\n",
       "    <tr>\n",
       "      <th>1</th>\n",
       "      <td>1</td>\n",
       "      <td>Bath Bombs 7 Natural Bath Bomb Gift Set Handma...</td>\n",
       "      <td>STNTUS INNOVATIONS</td>\n",
       "      <td>14.99</td>\n",
       "      <td>3082.0</td>\n",
       "      <td>102.0</td>\n",
       "      <td>46199.0</td>\n",
       "      <td>06/11/2019</td>\n",
       "      <td>7.60</td>\n",
       "      <td>1546</td>\n",
       "      <td>4.6</td>\n",
       "      <td>7.39</td>\n",
       "      <td>5648.0</td>\n",
       "      <td>Beauty &amp; Personal Care</td>\n",
       "      <td>B07Q6BLNT6</td>\n",
       "      <td>https://www.amazon.com/dp/B07Q6BLNT6</td>\n",
       "    </tr>\n",
       "    <tr>\n",
       "      <th>2</th>\n",
       "      <td>2</td>\n",
       "      <td>LifeAround2Angels Bath Bombs Gift Set 12 USA m...</td>\n",
       "      <td>Lifearound2angels</td>\n",
       "      <td>21.44</td>\n",
       "      <td>11256.0</td>\n",
       "      <td>375.0</td>\n",
       "      <td>241329.0</td>\n",
       "      <td>01/25/2017</td>\n",
       "      <td>12.43</td>\n",
       "      <td>40630</td>\n",
       "      <td>4.8</td>\n",
       "      <td>9.01</td>\n",
       "      <td>672.0</td>\n",
       "      <td>Beauty &amp; Personal Care</td>\n",
       "      <td>B01MFGN8S5</td>\n",
       "      <td>https://www.amazon.com/dp/B01MFGN8S5</td>\n",
       "    </tr>\n",
       "    <tr>\n",
       "      <th>3</th>\n",
       "      <td>3</td>\n",
       "      <td>Nagaliving Bath Bombs Gift Set 10 Organic Bubb...</td>\n",
       "      <td>nagaliving</td>\n",
       "      <td>9.99</td>\n",
       "      <td>4460.0</td>\n",
       "      <td>148.0</td>\n",
       "      <td>44555.0</td>\n",
       "      <td>11/11/2019</td>\n",
       "      <td>4.05</td>\n",
       "      <td>2634</td>\n",
       "      <td>4.4</td>\n",
       "      <td>5.94</td>\n",
       "      <td>5041.0</td>\n",
       "      <td>Beauty &amp; Personal Care</td>\n",
       "      <td>B081DGZP4B</td>\n",
       "      <td>https://www.amazon.com/dp/B081DGZP4B</td>\n",
       "    </tr>\n",
       "    <tr>\n",
       "      <th>4</th>\n",
       "      <td>4</td>\n",
       "      <td>Bath Bombs for Women - 24 All Natural BathBomb...</td>\n",
       "      <td>Mineral Me California</td>\n",
       "      <td>25.45</td>\n",
       "      <td>1638.0</td>\n",
       "      <td>54.0</td>\n",
       "      <td>41687.0</td>\n",
       "      <td>08/17/2020</td>\n",
       "      <td>14.90</td>\n",
       "      <td>2317</td>\n",
       "      <td>4.7</td>\n",
       "      <td>10.55</td>\n",
       "      <td>9033.0</td>\n",
       "      <td>Beauty &amp; Personal Care</td>\n",
       "      <td>B08G4DB4DB</td>\n",
       "      <td>https://www.amazon.com/dp/B08G4DB4DB</td>\n",
       "    </tr>\n",
       "  </tbody>\n",
       "</table>\n",
       "</div>"
      ],
      "text/plain": [
       "   Unnamed: 0                                       product_name  \\\n",
       "0           0  Organic Bath Bombs - 25 Extra Large Pcs + 3 Bu...   \n",
       "1           1  Bath Bombs 7 Natural Bath Bomb Gift Set Handma...   \n",
       "2           2  LifeAround2Angels Bath Bombs Gift Set 12 USA m...   \n",
       "3           3  Nagaliving Bath Bombs Gift Set 10 Organic Bubb...   \n",
       "4           4  Bath Bombs for Women - 24 All Natural BathBomb...   \n",
       "\n",
       "                   brand  price  monthly_sales  daily_sales  monthly_revenue  \\\n",
       "0             Lagunamoon  23.99         3768.0        125.0          90394.0   \n",
       "1     STNTUS INNOVATIONS  14.99         3082.0        102.0          46199.0   \n",
       "2      Lifearound2angels  21.44        11256.0        375.0         241329.0   \n",
       "3             nagaliving   9.99         4460.0        148.0          44555.0   \n",
       "4  Mineral Me California  25.45         1638.0         54.0          41687.0   \n",
       "\n",
       "  date_first_available    net  rating_number  rating   fees  product_rank  \\\n",
       "0           03/08/2020  14.60           4550     4.4   9.39        6475.0   \n",
       "1           06/11/2019   7.60           1546     4.6   7.39        5648.0   \n",
       "2           01/25/2017  12.43          40630     4.8   9.01         672.0   \n",
       "3           11/11/2019   4.05           2634     4.4   5.94        5041.0   \n",
       "4           08/17/2020  14.90           2317     4.7  10.55        9033.0   \n",
       "\n",
       "                 category        asin                                  link  \n",
       "0  Beauty & Personal Care  B085NJ7ZNN  https://www.amazon.com/dp/B085NJ7ZNN  \n",
       "1  Beauty & Personal Care  B07Q6BLNT6  https://www.amazon.com/dp/B07Q6BLNT6  \n",
       "2  Beauty & Personal Care  B01MFGN8S5  https://www.amazon.com/dp/B01MFGN8S5  \n",
       "3  Beauty & Personal Care  B081DGZP4B  https://www.amazon.com/dp/B081DGZP4B  \n",
       "4  Beauty & Personal Care  B08G4DB4DB  https://www.amazon.com/dp/B08G4DB4DB  "
      ]
     },
     "execution_count": 13,
     "metadata": {},
     "output_type": "execute_result"
    }
   ],
   "source": [
    "df = pd.read_csv(os.path.join(\"..\", \"data\", \"final_combined_csv\", \"ecom_search_keywords\"))\n",
    "df.head() # \"C:\\Users\\Alexandria\\Documents\\Github\\Amazon_Keywords\\data\\final_combined_csv\\ecom_search_keywords\""
   ]
  },
  {
   "cell_type": "code",
   "execution_count": 11,
   "metadata": {},
   "outputs": [
    {
     "data": {
      "text/plain": [
       "'c:\\\\Users\\\\Alexandria\\\\Documents\\\\Github\\\\Amazon_Keywords\\\\newfile'"
      ]
     },
     "execution_count": 11,
     "metadata": {},
     "output_type": "execute_result"
    }
   ],
   "source": [
    "os.getcwd()"
   ]
  },
  {
   "cell_type": "code",
   "execution_count": null,
   "metadata": {},
   "outputs": [],
   "source": [
    "./ current directory\n",
    "/ root directory \n",
    "../ parent directory"
   ]
  }
 ],
 "metadata": {
  "kernelspec": {
   "display_name": "Python 3.10.5 64-bit",
   "language": "python",
   "name": "python3"
  },
  "language_info": {
   "codemirror_mode": {
    "name": "ipython",
    "version": 3
   },
   "file_extension": ".py",
   "mimetype": "text/x-python",
   "name": "python",
   "nbconvert_exporter": "python",
   "pygments_lexer": "ipython3",
   "version": "3.10.5"
  },
  "orig_nbformat": 4,
  "vscode": {
   "interpreter": {
    "hash": "9d57f1ab8ab9c8ecc729f48d07171aa92894ec174b42816fa7ae05086db82fe8"
   }
  }
 },
 "nbformat": 4,
 "nbformat_minor": 2
}
