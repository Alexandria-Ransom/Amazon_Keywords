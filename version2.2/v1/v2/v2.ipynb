{
 "cells": [
  {
   "cell_type": "markdown",
   "metadata": {},
   "source": [
    "# Amazon Pricing \n",
    "\n",
    "Preface | Value | Purpose\n",
    "\n",
    "By running machine models on this pricing data, it can help amazon sellers plan to buy products so they can kb=now an estimated price range in the future, as a result, they can plan their finance well with respect to their budgets and priorites. They can know the trends ahead of time for this time period captured in August 2022.By analyzing previous market trends and price ranges, it can support upcoming developments Without bias, this helps both the buyers and sellers make their product purchasing decisions. \n",
    "\n",
    "* Regression Analysis: Predicting Net Profit"
   ]
  },
  {
   "cell_type": "code",
   "execution_count": 1,
   "metadata": {},
   "outputs": [],
   "source": [
    "import pandas \n",
    "import matplotlib.pyplot as plt \n",
    "import numpy \n"
   ]
  }
 ],
 "metadata": {
  "kernelspec": {
   "display_name": "Python 3.10.5 64-bit",
   "language": "python",
   "name": "python3"
  },
  "language_info": {
   "codemirror_mode": {
    "name": "ipython",
    "version": 3
   },
   "file_extension": ".py",
   "mimetype": "text/x-python",
   "name": "python",
   "nbconvert_exporter": "python",
   "pygments_lexer": "ipython3",
   "version": "3.10.5"
  },
  "orig_nbformat": 4,
  "vscode": {
   "interpreter": {
    "hash": "9d57f1ab8ab9c8ecc729f48d07171aa92894ec174b42816fa7ae05086db82fe8"
   }
  }
 },
 "nbformat": 4,
 "nbformat_minor": 2
}
