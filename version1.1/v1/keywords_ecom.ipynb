{
 "cells": [
  {
   "cell_type": "markdown",
   "metadata": {},
   "source": [
    "# **Version 1.1 Data Cleaning & Wrangling** \n",
    "## **Amazon Keywords**\n",
    "![amazon](https://media0.giphy.com/media/zWyv9xtsEfXQQ/giphy.gif?cid=ecf05e47y17118grewybl9m4u2ig44dw71hve85haabdrwu2&rid=giphy.gif&ct=g)\n",
    "### **By**: Alexandria Ransom\n",
    "\n",
    "#### **Project Preface**: This is version 1.1 of the project. There will be other versions for project completion. Idea Mini Highlight- Gathering 18 keywords/search terms(each search term has a csv) that can be typed in the amazon search bar of physical products that can be purchased on amazon ---> collecting data(csvs) via from junglescout app for each search term that of product pages results. Here I will be cleaning and refining the data. Review [ReadMe](https://github.com/Alexandria-Ransom/Amazon_Keywords) for high level overview on this project.\n",
    "\n",
    "#### Broad Why?\n",
    "This project will help amazon sellers in their product research stage in finding a product that is lucrative and can help them achieve their overall goal to sell and private label. This project would help save FBA sellers time in product search by automating data visualizations and data analysis for the sellers to make decisions faster. \n",
    " \n",
    "\n",
    "### **Dataset Background/Link**: We are taking 18 search term keywords and collecting data for each. \n",
    "  * Background: [ReadMe](https://github.com/Alexandria-Ransom/Amazon_Keywords)\n",
    "  \n",
    "  * Dataset Download Link: [amazon_keywords](https://github.com/Alexandria-Ransom/Amazon_Keywords/blob/main/amazon_keywords-20220820T194920Z-001.zip)\n",
    "\n",
    "![amazon](https://media.giphy.com/media/3oEjI4MMUuv9TZwXCM/giphy.gif)\n",
    "#### ***Concepts Covered**: Data Cleaning/ Wrangling/ Manipulation- Casting Data Types, Filling in Missing Values, Wrangling each attribute column by column*\n",
    "#### **The Simple Why of Version 1.1?** The dataset will be wrangled and cleaned in preparation to extract insights of each product category in SQL. The data needs to be cleaned to increase overall productivity and allow for the highest quality information in decision making."
   ]
  },
  {
   "cell_type": "markdown",
   "metadata": {},
   "source": [
    "### **Import Required Modules**"
   ]
  },
  {
   "cell_type": "code",
   "execution_count": 1,
   "metadata": {},
   "outputs": [],
   "source": [
    "from sklearn.preprocessing import PowerTransformer\n",
    "import pandas as pd \n",
    "import numpy as np \n",
    "import matplotlib.pyplot as plt\n",
    "import seaborn as sns\n",
    "import glob \n",
    "import os\n",
    "\n",
    "%matplotlib inline"
   ]
  },
  {
   "cell_type": "markdown",
   "metadata": {},
   "source": [
    "### **Read Data & Combine CSV's**"
   ]
  },
  {
   "cell_type": "code",
   "execution_count": 2,
   "metadata": {},
   "outputs": [],
   "source": [
    "# path = r\"..\\\\Ecom_Project_Data\\\\search_term_csvs\" #here I am taking the 18 csvs. (The 18 csvs each per keyword) From here I am combining all of them into one csv file \n",
    "path = os.path.join(\"..\", \"..\",\"data\",\"final_combined_csv\", \"individual_csvs\")\n",
    "# path = r\"C:\\\\Users\\\\Alexandria\\\\Documents\\\\Ecom_Project_Data\\\\search_term_csvs\"\n",
    "all_files = glob.glob(path + \"//*.csv\") #using this to open a folder of 18 csv's \n",
    "\n",
    "li = [] # creating an empty list \n",
    "\n",
    "for filename in all_files:\n",
    "    df = pd.read_csv(filename, index_col=None, header=0) \n",
    "    li.append(df) #adding each csv file to list\n",
    "\n",
    "df = pd.concat(li, axis=0, ignore_index=True) #finalizing the combining of 18 csv into 1 large csv file for analysis \n",
    "\n",
    "\n",
    "#data\\final_combined_csv\\individual_csvs\n",
    "#C:\\Users\\Alexandria\\Documents\\Github\\Amazon_Keywords\\data\\final_combined_csv\\individual_csvs"
   ]
  },
  {
   "cell_type": "markdown",
   "metadata": {},
   "source": []
  },
  {
   "cell_type": "code",
   "execution_count": 64,
   "metadata": {},
   "outputs": [
    {
     "data": {
      "text/plain": [
       "'c:\\\\Users\\\\Alexandria\\\\Documents\\\\Github\\\\Amazon_Keywords\\\\version1.1\\\\v1'"
      ]
     },
     "execution_count": 64,
     "metadata": {},
     "output_type": "execute_result"
    }
   ],
   "source": [
    "os.getcwd()"
   ]
  },
  {
   "cell_type": "markdown",
   "metadata": {},
   "source": [
    "   - Where are we at? What folder are we in ? enter in computer cwd\n",
    "   - look at the folder that holds all the files you would like to group together\n",
    "   -  Ask yourself how many folders are above that current folder\n",
    "   -  look at where you are at you folder\n",
    "   -  count every folder back until you get to the top \n",
    "   -  you can use '..' many of these until completed"
   ]
  },
  {
   "cell_type": "code",
   "execution_count": 3,
   "metadata": {},
   "outputs": [
    {
     "data": {
      "text/html": [
       "<div>\n",
       "<style scoped>\n",
       "    .dataframe tbody tr th:only-of-type {\n",
       "        vertical-align: middle;\n",
       "    }\n",
       "\n",
       "    .dataframe tbody tr th {\n",
       "        vertical-align: top;\n",
       "    }\n",
       "\n",
       "    .dataframe thead th {\n",
       "        text-align: right;\n",
       "    }\n",
       "</style>\n",
       "<table border=\"1\" class=\"dataframe\">\n",
       "  <thead>\n",
       "    <tr style=\"text-align: right;\">\n",
       "      <th></th>\n",
       "      <th>Export time: 8/5/2022, 11:15:38 PM</th>\n",
       "      <th>Unnamed: 1</th>\n",
       "      <th>#</th>\n",
       "      <th>Product Name</th>\n",
       "      <th>Brand</th>\n",
       "      <th>Price</th>\n",
       "      <th>Mo. Sales</th>\n",
       "      <th>D. Sales</th>\n",
       "      <th>Mo. Revenue</th>\n",
       "      <th>Date First Available</th>\n",
       "      <th>...</th>\n",
       "      <th>Export time: 8/7/2022, 6:40:07 PM</th>\n",
       "      <th>Export time: 8/7/2022, 6:56:01 PM</th>\n",
       "      <th>Export time: 8/6/2022, 7:36:41 PM</th>\n",
       "      <th>Export time: 8/6/2022, 12:04:18 AM</th>\n",
       "      <th>Export time: 8/6/2022, 7:23:19 PM</th>\n",
       "      <th>Export time: 8/7/2022, 2:43:34 PM</th>\n",
       "      <th>Export time: 8/7/2022, 5:49:08 PM</th>\n",
       "      <th>Export time: 8/6/2022, 12:17:36 AM</th>\n",
       "      <th>Export time: 8/6/2022, 8:14:58 PM</th>\n",
       "      <th>Export time: 8/5/2022, 11:41:21 PM</th>\n",
       "    </tr>\n",
       "  </thead>\n",
       "  <tbody>\n",
       "    <tr>\n",
       "      <th>0</th>\n",
       "      <td>Search Term: bathbombs</td>\n",
       "      <td>NaN</td>\n",
       "      <td>1</td>\n",
       "      <td>Organic Bath Bombs - 25 Extra Large Pcs + 3 Bu...</td>\n",
       "      <td>Lagunamoon</td>\n",
       "      <td>$23.99</td>\n",
       "      <td>3768</td>\n",
       "      <td>125</td>\n",
       "      <td>$90394</td>\n",
       "      <td>03/08/2020</td>\n",
       "      <td>...</td>\n",
       "      <td>NaN</td>\n",
       "      <td>NaN</td>\n",
       "      <td>NaN</td>\n",
       "      <td>NaN</td>\n",
       "      <td>NaN</td>\n",
       "      <td>NaN</td>\n",
       "      <td>NaN</td>\n",
       "      <td>NaN</td>\n",
       "      <td>NaN</td>\n",
       "      <td>NaN</td>\n",
       "    </tr>\n",
       "    <tr>\n",
       "      <th>1</th>\n",
       "      <td>Average Sales: 773</td>\n",
       "      <td>NaN</td>\n",
       "      <td>2</td>\n",
       "      <td>Bath Bombs 7 Natural Bath Bomb Gift Set Handma...</td>\n",
       "      <td>STNTUS INNOVATIONS</td>\n",
       "      <td>$14.99</td>\n",
       "      <td>3082</td>\n",
       "      <td>102</td>\n",
       "      <td>$46199</td>\n",
       "      <td>06/11/2019</td>\n",
       "      <td>...</td>\n",
       "      <td>NaN</td>\n",
       "      <td>NaN</td>\n",
       "      <td>NaN</td>\n",
       "      <td>NaN</td>\n",
       "      <td>NaN</td>\n",
       "      <td>NaN</td>\n",
       "      <td>NaN</td>\n",
       "      <td>NaN</td>\n",
       "      <td>NaN</td>\n",
       "      <td>NaN</td>\n",
       "    </tr>\n",
       "    <tr>\n",
       "      <th>2</th>\n",
       "      <td>Average Sales Rank: 177,582</td>\n",
       "      <td>NaN</td>\n",
       "      <td>3</td>\n",
       "      <td>LifeAround2Angels Bath Bombs Gift Set 12 USA m...</td>\n",
       "      <td>Lifearound2angels</td>\n",
       "      <td>$21.44</td>\n",
       "      <td>11256</td>\n",
       "      <td>375</td>\n",
       "      <td>$241329</td>\n",
       "      <td>01/25/2017</td>\n",
       "      <td>...</td>\n",
       "      <td>NaN</td>\n",
       "      <td>NaN</td>\n",
       "      <td>NaN</td>\n",
       "      <td>NaN</td>\n",
       "      <td>NaN</td>\n",
       "      <td>NaN</td>\n",
       "      <td>NaN</td>\n",
       "      <td>NaN</td>\n",
       "      <td>NaN</td>\n",
       "      <td>NaN</td>\n",
       "    </tr>\n",
       "    <tr>\n",
       "      <th>3</th>\n",
       "      <td>Average Price: $19.86</td>\n",
       "      <td>NaN</td>\n",
       "      <td>4</td>\n",
       "      <td>Nagaliving Bath Bombs Gift Set 10 Organic Bubb...</td>\n",
       "      <td>nagaliving</td>\n",
       "      <td>$9.99</td>\n",
       "      <td>4460</td>\n",
       "      <td>148</td>\n",
       "      <td>$44555</td>\n",
       "      <td>11/11/2019</td>\n",
       "      <td>...</td>\n",
       "      <td>NaN</td>\n",
       "      <td>NaN</td>\n",
       "      <td>NaN</td>\n",
       "      <td>NaN</td>\n",
       "      <td>NaN</td>\n",
       "      <td>NaN</td>\n",
       "      <td>NaN</td>\n",
       "      <td>NaN</td>\n",
       "      <td>NaN</td>\n",
       "      <td>NaN</td>\n",
       "    </tr>\n",
       "    <tr>\n",
       "      <th>4</th>\n",
       "      <td>Average Rating Number: 1,659</td>\n",
       "      <td>NaN</td>\n",
       "      <td>5</td>\n",
       "      <td>Bath Bombs for Women - 24 All Natural BathBomb...</td>\n",
       "      <td>Mineral Me California</td>\n",
       "      <td>$25.45</td>\n",
       "      <td>1638</td>\n",
       "      <td>54</td>\n",
       "      <td>$41687</td>\n",
       "      <td>08/17/2020</td>\n",
       "      <td>...</td>\n",
       "      <td>NaN</td>\n",
       "      <td>NaN</td>\n",
       "      <td>NaN</td>\n",
       "      <td>NaN</td>\n",
       "      <td>NaN</td>\n",
       "      <td>NaN</td>\n",
       "      <td>NaN</td>\n",
       "      <td>NaN</td>\n",
       "      <td>NaN</td>\n",
       "      <td>NaN</td>\n",
       "    </tr>\n",
       "  </tbody>\n",
       "</table>\n",
       "<p>5 rows × 35 columns</p>\n",
       "</div>"
      ],
      "text/plain": [
       "  Export time: 8/5/2022, 11:15:38 PM  Unnamed: 1  #  \\\n",
       "0             Search Term: bathbombs         NaN  1   \n",
       "1                 Average Sales: 773         NaN  2   \n",
       "2        Average Sales Rank: 177,582         NaN  3   \n",
       "3              Average Price: $19.86         NaN  4   \n",
       "4       Average Rating Number: 1,659         NaN  5   \n",
       "\n",
       "                                        Product Name                  Brand  \\\n",
       "0  Organic Bath Bombs - 25 Extra Large Pcs + 3 Bu...             Lagunamoon   \n",
       "1  Bath Bombs 7 Natural Bath Bomb Gift Set Handma...     STNTUS INNOVATIONS   \n",
       "2  LifeAround2Angels Bath Bombs Gift Set 12 USA m...      Lifearound2angels   \n",
       "3  Nagaliving Bath Bombs Gift Set 10 Organic Bubb...             nagaliving   \n",
       "4  Bath Bombs for Women - 24 All Natural BathBomb...  Mineral Me California   \n",
       "\n",
       "    Price Mo. Sales D. Sales Mo. Revenue Date First Available  ...  \\\n",
       "0  $23.99      3768      125      $90394           03/08/2020  ...   \n",
       "1  $14.99      3082      102      $46199           06/11/2019  ...   \n",
       "2  $21.44     11256      375     $241329           01/25/2017  ...   \n",
       "3   $9.99      4460      148      $44555           11/11/2019  ...   \n",
       "4  $25.45      1638       54      $41687           08/17/2020  ...   \n",
       "\n",
       "  Export time: 8/7/2022, 6:40:07 PM  Export time: 8/7/2022, 6:56:01 PM  \\\n",
       "0                               NaN                                NaN   \n",
       "1                               NaN                                NaN   \n",
       "2                               NaN                                NaN   \n",
       "3                               NaN                                NaN   \n",
       "4                               NaN                                NaN   \n",
       "\n",
       "   Export time: 8/6/2022, 7:36:41 PM Export time: 8/6/2022, 12:04:18 AM  \\\n",
       "0                                NaN                                NaN   \n",
       "1                                NaN                                NaN   \n",
       "2                                NaN                                NaN   \n",
       "3                                NaN                                NaN   \n",
       "4                                NaN                                NaN   \n",
       "\n",
       "   Export time: 8/6/2022, 7:23:19 PM Export time: 8/7/2022, 2:43:34 PM  \\\n",
       "0                                NaN                               NaN   \n",
       "1                                NaN                               NaN   \n",
       "2                                NaN                               NaN   \n",
       "3                                NaN                               NaN   \n",
       "4                                NaN                               NaN   \n",
       "\n",
       "  Export time: 8/7/2022, 5:49:08 PM Export time: 8/6/2022, 12:17:36 AM  \\\n",
       "0                               NaN                                NaN   \n",
       "1                               NaN                                NaN   \n",
       "2                               NaN                                NaN   \n",
       "3                               NaN                                NaN   \n",
       "4                               NaN                                NaN   \n",
       "\n",
       "  Export time: 8/6/2022, 8:14:58 PM Export time: 8/5/2022, 11:41:21 PM  \n",
       "0                               NaN                                NaN  \n",
       "1                               NaN                                NaN  \n",
       "2                               NaN                                NaN  \n",
       "3                               NaN                                NaN  \n",
       "4                               NaN                                NaN  \n",
       "\n",
       "[5 rows x 35 columns]"
      ]
     },
     "execution_count": 3,
     "metadata": {},
     "output_type": "execute_result"
    }
   ],
   "source": [
    "df.head()"
   ]
  },
  {
   "cell_type": "markdown",
   "metadata": {},
   "source": [
    "`./` - root (ie users )\n",
    "`/` - current directory\n",
    "`../` - goes to parent "
   ]
  },
  {
   "cell_type": "code",
   "execution_count": 66,
   "metadata": {},
   "outputs": [
    {
     "data": {
      "text/plain": [
       "'c:\\\\Users\\\\Alexandria\\\\Documents\\\\Github\\\\Amazon_Keywords\\\\version1.1\\\\v1'"
      ]
     },
     "execution_count": 66,
     "metadata": {},
     "output_type": "execute_result"
    }
   ],
   "source": [
    "os.getcwd()\n"
   ]
  },
  {
   "cell_type": "code",
   "execution_count": 67,
   "metadata": {},
   "outputs": [
    {
     "data": {
      "text/html": [
       "<div>\n",
       "<style scoped>\n",
       "    .dataframe tbody tr th:only-of-type {\n",
       "        vertical-align: middle;\n",
       "    }\n",
       "\n",
       "    .dataframe tbody tr th {\n",
       "        vertical-align: top;\n",
       "    }\n",
       "\n",
       "    .dataframe thead th {\n",
       "        text-align: right;\n",
       "    }\n",
       "</style>\n",
       "<table border=\"1\" class=\"dataframe\">\n",
       "  <thead>\n",
       "    <tr style=\"text-align: right;\">\n",
       "      <th></th>\n",
       "      <th>Export time: 8/5/2022, 11:15:38 PM</th>\n",
       "      <th>Unnamed: 1</th>\n",
       "      <th>#</th>\n",
       "      <th>Product Name</th>\n",
       "      <th>Brand</th>\n",
       "      <th>Price</th>\n",
       "      <th>Mo. Sales</th>\n",
       "      <th>D. Sales</th>\n",
       "      <th>Mo. Revenue</th>\n",
       "      <th>Date First Available</th>\n",
       "      <th>...</th>\n",
       "      <th>Export time: 8/7/2022, 6:40:07 PM</th>\n",
       "      <th>Export time: 8/7/2022, 6:56:01 PM</th>\n",
       "      <th>Export time: 8/6/2022, 7:36:41 PM</th>\n",
       "      <th>Export time: 8/6/2022, 12:04:18 AM</th>\n",
       "      <th>Export time: 8/6/2022, 7:23:19 PM</th>\n",
       "      <th>Export time: 8/7/2022, 2:43:34 PM</th>\n",
       "      <th>Export time: 8/7/2022, 5:49:08 PM</th>\n",
       "      <th>Export time: 8/6/2022, 12:17:36 AM</th>\n",
       "      <th>Export time: 8/6/2022, 8:14:58 PM</th>\n",
       "      <th>Export time: 8/5/2022, 11:41:21 PM</th>\n",
       "    </tr>\n",
       "  </thead>\n",
       "  <tbody>\n",
       "    <tr>\n",
       "      <th>0</th>\n",
       "      <td>Search Term: bathbombs</td>\n",
       "      <td>NaN</td>\n",
       "      <td>1</td>\n",
       "      <td>Organic Bath Bombs - 25 Extra Large Pcs + 3 Bu...</td>\n",
       "      <td>Lagunamoon</td>\n",
       "      <td>$23.99</td>\n",
       "      <td>3768</td>\n",
       "      <td>125</td>\n",
       "      <td>$90394</td>\n",
       "      <td>03/08/2020</td>\n",
       "      <td>...</td>\n",
       "      <td>NaN</td>\n",
       "      <td>NaN</td>\n",
       "      <td>NaN</td>\n",
       "      <td>NaN</td>\n",
       "      <td>NaN</td>\n",
       "      <td>NaN</td>\n",
       "      <td>NaN</td>\n",
       "      <td>NaN</td>\n",
       "      <td>NaN</td>\n",
       "      <td>NaN</td>\n",
       "    </tr>\n",
       "    <tr>\n",
       "      <th>1</th>\n",
       "      <td>Average Sales: 773</td>\n",
       "      <td>NaN</td>\n",
       "      <td>2</td>\n",
       "      <td>Bath Bombs 7 Natural Bath Bomb Gift Set Handma...</td>\n",
       "      <td>STNTUS INNOVATIONS</td>\n",
       "      <td>$14.99</td>\n",
       "      <td>3082</td>\n",
       "      <td>102</td>\n",
       "      <td>$46199</td>\n",
       "      <td>06/11/2019</td>\n",
       "      <td>...</td>\n",
       "      <td>NaN</td>\n",
       "      <td>NaN</td>\n",
       "      <td>NaN</td>\n",
       "      <td>NaN</td>\n",
       "      <td>NaN</td>\n",
       "      <td>NaN</td>\n",
       "      <td>NaN</td>\n",
       "      <td>NaN</td>\n",
       "      <td>NaN</td>\n",
       "      <td>NaN</td>\n",
       "    </tr>\n",
       "    <tr>\n",
       "      <th>2</th>\n",
       "      <td>Average Sales Rank: 177,582</td>\n",
       "      <td>NaN</td>\n",
       "      <td>3</td>\n",
       "      <td>LifeAround2Angels Bath Bombs Gift Set 12 USA m...</td>\n",
       "      <td>Lifearound2angels</td>\n",
       "      <td>$21.44</td>\n",
       "      <td>11256</td>\n",
       "      <td>375</td>\n",
       "      <td>$241329</td>\n",
       "      <td>01/25/2017</td>\n",
       "      <td>...</td>\n",
       "      <td>NaN</td>\n",
       "      <td>NaN</td>\n",
       "      <td>NaN</td>\n",
       "      <td>NaN</td>\n",
       "      <td>NaN</td>\n",
       "      <td>NaN</td>\n",
       "      <td>NaN</td>\n",
       "      <td>NaN</td>\n",
       "      <td>NaN</td>\n",
       "      <td>NaN</td>\n",
       "    </tr>\n",
       "    <tr>\n",
       "      <th>3</th>\n",
       "      <td>Average Price: $19.86</td>\n",
       "      <td>NaN</td>\n",
       "      <td>4</td>\n",
       "      <td>Nagaliving Bath Bombs Gift Set 10 Organic Bubb...</td>\n",
       "      <td>nagaliving</td>\n",
       "      <td>$9.99</td>\n",
       "      <td>4460</td>\n",
       "      <td>148</td>\n",
       "      <td>$44555</td>\n",
       "      <td>11/11/2019</td>\n",
       "      <td>...</td>\n",
       "      <td>NaN</td>\n",
       "      <td>NaN</td>\n",
       "      <td>NaN</td>\n",
       "      <td>NaN</td>\n",
       "      <td>NaN</td>\n",
       "      <td>NaN</td>\n",
       "      <td>NaN</td>\n",
       "      <td>NaN</td>\n",
       "      <td>NaN</td>\n",
       "      <td>NaN</td>\n",
       "    </tr>\n",
       "    <tr>\n",
       "      <th>4</th>\n",
       "      <td>Average Rating Number: 1,659</td>\n",
       "      <td>NaN</td>\n",
       "      <td>5</td>\n",
       "      <td>Bath Bombs for Women - 24 All Natural BathBomb...</td>\n",
       "      <td>Mineral Me California</td>\n",
       "      <td>$25.45</td>\n",
       "      <td>1638</td>\n",
       "      <td>54</td>\n",
       "      <td>$41687</td>\n",
       "      <td>08/17/2020</td>\n",
       "      <td>...</td>\n",
       "      <td>NaN</td>\n",
       "      <td>NaN</td>\n",
       "      <td>NaN</td>\n",
       "      <td>NaN</td>\n",
       "      <td>NaN</td>\n",
       "      <td>NaN</td>\n",
       "      <td>NaN</td>\n",
       "      <td>NaN</td>\n",
       "      <td>NaN</td>\n",
       "      <td>NaN</td>\n",
       "    </tr>\n",
       "    <tr>\n",
       "      <th>5</th>\n",
       "      <td>NaN</td>\n",
       "      <td>NaN</td>\n",
       "      <td>6</td>\n",
       "      <td>JOYIUS Bath Bombs Gift Set with Natural Essent...</td>\n",
       "      <td>JOYIUS</td>\n",
       "      <td>$7.99</td>\n",
       "      <td>76</td>\n",
       "      <td>2</td>\n",
       "      <td>$607</td>\n",
       "      <td>04/15/2020</td>\n",
       "      <td>...</td>\n",
       "      <td>NaN</td>\n",
       "      <td>NaN</td>\n",
       "      <td>NaN</td>\n",
       "      <td>NaN</td>\n",
       "      <td>NaN</td>\n",
       "      <td>NaN</td>\n",
       "      <td>NaN</td>\n",
       "      <td>NaN</td>\n",
       "      <td>NaN</td>\n",
       "      <td>NaN</td>\n",
       "    </tr>\n",
       "    <tr>\n",
       "      <th>6</th>\n",
       "      <td>NaN</td>\n",
       "      <td>NaN</td>\n",
       "      <td>7</td>\n",
       "      <td>Organic Bath Bombs Gift Set 50 Handmade Bulk B...</td>\n",
       "      <td>nagaliving</td>\n",
       "      <td>$35.19</td>\n",
       "      <td>1631</td>\n",
       "      <td>54</td>\n",
       "      <td>$57395</td>\n",
       "      <td>10/15/2019</td>\n",
       "      <td>...</td>\n",
       "      <td>NaN</td>\n",
       "      <td>NaN</td>\n",
       "      <td>NaN</td>\n",
       "      <td>NaN</td>\n",
       "      <td>NaN</td>\n",
       "      <td>NaN</td>\n",
       "      <td>NaN</td>\n",
       "      <td>NaN</td>\n",
       "      <td>NaN</td>\n",
       "      <td>NaN</td>\n",
       "    </tr>\n",
       "    <tr>\n",
       "      <th>7</th>\n",
       "      <td>NaN</td>\n",
       "      <td>NaN</td>\n",
       "      <td>8</td>\n",
       "      <td>10 Bath Bombs for Kids Bath Bomb Gift Set Natu...</td>\n",
       "      <td>comfso</td>\n",
       "      <td>$16.99</td>\n",
       "      <td>1407</td>\n",
       "      <td>46</td>\n",
       "      <td>$23905</td>\n",
       "      <td>02/25/2021</td>\n",
       "      <td>...</td>\n",
       "      <td>NaN</td>\n",
       "      <td>NaN</td>\n",
       "      <td>NaN</td>\n",
       "      <td>NaN</td>\n",
       "      <td>NaN</td>\n",
       "      <td>NaN</td>\n",
       "      <td>NaN</td>\n",
       "      <td>NaN</td>\n",
       "      <td>NaN</td>\n",
       "      <td>NaN</td>\n",
       "    </tr>\n",
       "    <tr>\n",
       "      <th>8</th>\n",
       "      <td>NaN</td>\n",
       "      <td>NaN</td>\n",
       "      <td>9</td>\n",
       "      <td>30 Pcs Bath Bomb Gift Set Natural Organic Mini...</td>\n",
       "      <td>PickMora</td>\n",
       "      <td>$18.39</td>\n",
       "      <td>2324</td>\n",
       "      <td>77</td>\n",
       "      <td>$42738</td>\n",
       "      <td>02/10/2021</td>\n",
       "      <td>...</td>\n",
       "      <td>NaN</td>\n",
       "      <td>NaN</td>\n",
       "      <td>NaN</td>\n",
       "      <td>NaN</td>\n",
       "      <td>NaN</td>\n",
       "      <td>NaN</td>\n",
       "      <td>NaN</td>\n",
       "      <td>NaN</td>\n",
       "      <td>NaN</td>\n",
       "      <td>NaN</td>\n",
       "    </tr>\n",
       "    <tr>\n",
       "      <th>9</th>\n",
       "      <td>NaN</td>\n",
       "      <td>NaN</td>\n",
       "      <td>10</td>\n",
       "      <td>Aofmee Bath Bombs Gift Set Handmade Bubble and...</td>\n",
       "      <td>Aofmee</td>\n",
       "      <td>$14.99</td>\n",
       "      <td>2446</td>\n",
       "      <td>81</td>\n",
       "      <td>$36666</td>\n",
       "      <td>06/08/2019</td>\n",
       "      <td>...</td>\n",
       "      <td>NaN</td>\n",
       "      <td>NaN</td>\n",
       "      <td>NaN</td>\n",
       "      <td>NaN</td>\n",
       "      <td>NaN</td>\n",
       "      <td>NaN</td>\n",
       "      <td>NaN</td>\n",
       "      <td>NaN</td>\n",
       "      <td>NaN</td>\n",
       "      <td>NaN</td>\n",
       "    </tr>\n",
       "  </tbody>\n",
       "</table>\n",
       "<p>10 rows × 35 columns</p>\n",
       "</div>"
      ],
      "text/plain": [
       "  Export time: 8/5/2022, 11:15:38 PM  Unnamed: 1   #  \\\n",
       "0             Search Term: bathbombs         NaN   1   \n",
       "1                 Average Sales: 773         NaN   2   \n",
       "2        Average Sales Rank: 177,582         NaN   3   \n",
       "3              Average Price: $19.86         NaN   4   \n",
       "4       Average Rating Number: 1,659         NaN   5   \n",
       "5                                NaN         NaN   6   \n",
       "6                                NaN         NaN   7   \n",
       "7                                NaN         NaN   8   \n",
       "8                                NaN         NaN   9   \n",
       "9                                NaN         NaN  10   \n",
       "\n",
       "                                        Product Name                  Brand  \\\n",
       "0  Organic Bath Bombs - 25 Extra Large Pcs + 3 Bu...             Lagunamoon   \n",
       "1  Bath Bombs 7 Natural Bath Bomb Gift Set Handma...     STNTUS INNOVATIONS   \n",
       "2  LifeAround2Angels Bath Bombs Gift Set 12 USA m...      Lifearound2angels   \n",
       "3  Nagaliving Bath Bombs Gift Set 10 Organic Bubb...             nagaliving   \n",
       "4  Bath Bombs for Women - 24 All Natural BathBomb...  Mineral Me California   \n",
       "5  JOYIUS Bath Bombs Gift Set with Natural Essent...                 JOYIUS   \n",
       "6  Organic Bath Bombs Gift Set 50 Handmade Bulk B...             nagaliving   \n",
       "7  10 Bath Bombs for Kids Bath Bomb Gift Set Natu...                 comfso   \n",
       "8  30 Pcs Bath Bomb Gift Set Natural Organic Mini...               PickMora   \n",
       "9  Aofmee Bath Bombs Gift Set Handmade Bubble and...                 Aofmee   \n",
       "\n",
       "    Price Mo. Sales D. Sales Mo. Revenue Date First Available  ...  \\\n",
       "0  $23.99      3768      125      $90394           03/08/2020  ...   \n",
       "1  $14.99      3082      102      $46199           06/11/2019  ...   \n",
       "2  $21.44     11256      375     $241329           01/25/2017  ...   \n",
       "3   $9.99      4460      148      $44555           11/11/2019  ...   \n",
       "4  $25.45      1638       54      $41687           08/17/2020  ...   \n",
       "5   $7.99        76        2        $607           04/15/2020  ...   \n",
       "6  $35.19      1631       54      $57395           10/15/2019  ...   \n",
       "7  $16.99      1407       46      $23905           02/25/2021  ...   \n",
       "8  $18.39      2324       77      $42738           02/10/2021  ...   \n",
       "9  $14.99      2446       81      $36666           06/08/2019  ...   \n",
       "\n",
       "  Export time: 8/7/2022, 6:40:07 PM  Export time: 8/7/2022, 6:56:01 PM  \\\n",
       "0                               NaN                                NaN   \n",
       "1                               NaN                                NaN   \n",
       "2                               NaN                                NaN   \n",
       "3                               NaN                                NaN   \n",
       "4                               NaN                                NaN   \n",
       "5                               NaN                                NaN   \n",
       "6                               NaN                                NaN   \n",
       "7                               NaN                                NaN   \n",
       "8                               NaN                                NaN   \n",
       "9                               NaN                                NaN   \n",
       "\n",
       "   Export time: 8/6/2022, 7:36:41 PM Export time: 8/6/2022, 12:04:18 AM  \\\n",
       "0                                NaN                                NaN   \n",
       "1                                NaN                                NaN   \n",
       "2                                NaN                                NaN   \n",
       "3                                NaN                                NaN   \n",
       "4                                NaN                                NaN   \n",
       "5                                NaN                                NaN   \n",
       "6                                NaN                                NaN   \n",
       "7                                NaN                                NaN   \n",
       "8                                NaN                                NaN   \n",
       "9                                NaN                                NaN   \n",
       "\n",
       "   Export time: 8/6/2022, 7:23:19 PM Export time: 8/7/2022, 2:43:34 PM  \\\n",
       "0                                NaN                               NaN   \n",
       "1                                NaN                               NaN   \n",
       "2                                NaN                               NaN   \n",
       "3                                NaN                               NaN   \n",
       "4                                NaN                               NaN   \n",
       "5                                NaN                               NaN   \n",
       "6                                NaN                               NaN   \n",
       "7                                NaN                               NaN   \n",
       "8                                NaN                               NaN   \n",
       "9                                NaN                               NaN   \n",
       "\n",
       "  Export time: 8/7/2022, 5:49:08 PM Export time: 8/6/2022, 12:17:36 AM  \\\n",
       "0                               NaN                                NaN   \n",
       "1                               NaN                                NaN   \n",
       "2                               NaN                                NaN   \n",
       "3                               NaN                                NaN   \n",
       "4                               NaN                                NaN   \n",
       "5                               NaN                                NaN   \n",
       "6                               NaN                                NaN   \n",
       "7                               NaN                                NaN   \n",
       "8                               NaN                                NaN   \n",
       "9                               NaN                                NaN   \n",
       "\n",
       "  Export time: 8/6/2022, 8:14:58 PM Export time: 8/5/2022, 11:41:21 PM  \n",
       "0                               NaN                                NaN  \n",
       "1                               NaN                                NaN  \n",
       "2                               NaN                                NaN  \n",
       "3                               NaN                                NaN  \n",
       "4                               NaN                                NaN  \n",
       "5                               NaN                                NaN  \n",
       "6                               NaN                                NaN  \n",
       "7                               NaN                                NaN  \n",
       "8                               NaN                                NaN  \n",
       "9                               NaN                                NaN  \n",
       "\n",
       "[10 rows x 35 columns]"
      ]
     },
     "execution_count": 67,
     "metadata": {},
     "output_type": "execute_result"
    }
   ],
   "source": [
    "df.head(10) #viewing the first 10 rows"
   ]
  },
  {
   "cell_type": "code",
   "execution_count": 68,
   "metadata": {},
   "outputs": [
    {
     "data": {
      "text/html": [
       "<div>\n",
       "<style scoped>\n",
       "    .dataframe tbody tr th:only-of-type {\n",
       "        vertical-align: middle;\n",
       "    }\n",
       "\n",
       "    .dataframe tbody tr th {\n",
       "        vertical-align: top;\n",
       "    }\n",
       "\n",
       "    .dataframe thead th {\n",
       "        text-align: right;\n",
       "    }\n",
       "</style>\n",
       "<table border=\"1\" class=\"dataframe\">\n",
       "  <thead>\n",
       "    <tr style=\"text-align: right;\">\n",
       "      <th></th>\n",
       "      <th>Export time: 8/5/2022, 11:15:38 PM</th>\n",
       "      <th>Unnamed: 1</th>\n",
       "      <th>#</th>\n",
       "      <th>Product Name</th>\n",
       "      <th>Brand</th>\n",
       "      <th>Price</th>\n",
       "      <th>Mo. Sales</th>\n",
       "      <th>D. Sales</th>\n",
       "      <th>Mo. Revenue</th>\n",
       "      <th>Date First Available</th>\n",
       "      <th>...</th>\n",
       "      <th>Export time: 8/7/2022, 6:40:07 PM</th>\n",
       "      <th>Export time: 8/7/2022, 6:56:01 PM</th>\n",
       "      <th>Export time: 8/6/2022, 7:36:41 PM</th>\n",
       "      <th>Export time: 8/6/2022, 12:04:18 AM</th>\n",
       "      <th>Export time: 8/6/2022, 7:23:19 PM</th>\n",
       "      <th>Export time: 8/7/2022, 2:43:34 PM</th>\n",
       "      <th>Export time: 8/7/2022, 5:49:08 PM</th>\n",
       "      <th>Export time: 8/6/2022, 12:17:36 AM</th>\n",
       "      <th>Export time: 8/6/2022, 8:14:58 PM</th>\n",
       "      <th>Export time: 8/5/2022, 11:41:21 PM</th>\n",
       "    </tr>\n",
       "  </thead>\n",
       "  <tbody>\n",
       "    <tr>\n",
       "      <th>5110</th>\n",
       "      <td>NaN</td>\n",
       "      <td>NaN</td>\n",
       "      <td>297</td>\n",
       "      <td>Queen Lashes by Fitqueen Vegan &amp; Cruelty free ...</td>\n",
       "      <td>Generic</td>\n",
       "      <td>$11.98</td>\n",
       "      <td>...</td>\n",
       "      <td>...</td>\n",
       "      <td>...</td>\n",
       "      <td>06/21/2022</td>\n",
       "      <td>...</td>\n",
       "      <td>NaN</td>\n",
       "      <td>NaN</td>\n",
       "      <td>NaN</td>\n",
       "      <td>NaN</td>\n",
       "      <td>NaN</td>\n",
       "      <td>NaN</td>\n",
       "      <td>NaN</td>\n",
       "      <td>NaN</td>\n",
       "      <td>NaN</td>\n",
       "      <td>NaN</td>\n",
       "    </tr>\n",
       "    <tr>\n",
       "      <th>5111</th>\n",
       "      <td>NaN</td>\n",
       "      <td>NaN</td>\n",
       "      <td>298</td>\n",
       "      <td>Colored Mascara Waterproof and Smudgeproof Lon...</td>\n",
       "      <td>Fpoqbod</td>\n",
       "      <td>$3.59</td>\n",
       "      <td>...</td>\n",
       "      <td>...</td>\n",
       "      <td>...</td>\n",
       "      <td>...</td>\n",
       "      <td>...</td>\n",
       "      <td>NaN</td>\n",
       "      <td>NaN</td>\n",
       "      <td>NaN</td>\n",
       "      <td>NaN</td>\n",
       "      <td>NaN</td>\n",
       "      <td>NaN</td>\n",
       "      <td>NaN</td>\n",
       "      <td>NaN</td>\n",
       "      <td>NaN</td>\n",
       "      <td>NaN</td>\n",
       "    </tr>\n",
       "    <tr>\n",
       "      <th>5112</th>\n",
       "      <td>NaN</td>\n",
       "      <td>NaN</td>\n",
       "      <td>299</td>\n",
       "      <td>Beauty Without Cruelty Paraben-free Mascara Fu...</td>\n",
       "      <td>Beauty Without Cruelty</td>\n",
       "      <td>$17.04</td>\n",
       "      <td>2</td>\n",
       "      <td>0</td>\n",
       "      <td>$34</td>\n",
       "      <td>10/13/2013</td>\n",
       "      <td>...</td>\n",
       "      <td>NaN</td>\n",
       "      <td>NaN</td>\n",
       "      <td>NaN</td>\n",
       "      <td>NaN</td>\n",
       "      <td>NaN</td>\n",
       "      <td>NaN</td>\n",
       "      <td>NaN</td>\n",
       "      <td>NaN</td>\n",
       "      <td>NaN</td>\n",
       "      <td>NaN</td>\n",
       "    </tr>\n",
       "    <tr>\n",
       "      <th>5113</th>\n",
       "      <td>NaN</td>\n",
       "      <td>NaN</td>\n",
       "      <td>300</td>\n",
       "      <td>PuroBIO Certified Organic Impeccable Restructu...</td>\n",
       "      <td>puroBIO Certified Organic Cosmetics</td>\n",
       "      <td>$16.90</td>\n",
       "      <td>0</td>\n",
       "      <td>0</td>\n",
       "      <td>$0</td>\n",
       "      <td>02/14/2019</td>\n",
       "      <td>...</td>\n",
       "      <td>NaN</td>\n",
       "      <td>NaN</td>\n",
       "      <td>NaN</td>\n",
       "      <td>NaN</td>\n",
       "      <td>NaN</td>\n",
       "      <td>NaN</td>\n",
       "      <td>NaN</td>\n",
       "      <td>NaN</td>\n",
       "      <td>NaN</td>\n",
       "      <td>NaN</td>\n",
       "    </tr>\n",
       "    <tr>\n",
       "      <th>5114</th>\n",
       "      <td>NaN</td>\n",
       "      <td>NaN</td>\n",
       "      <td>301</td>\n",
       "      <td>Ardorlove Colored Eyelash Mascara - 7 Colors W...</td>\n",
       "      <td>Ardorlove</td>\n",
       "      <td>$20.99</td>\n",
       "      <td>...</td>\n",
       "      <td>...</td>\n",
       "      <td>...</td>\n",
       "      <td>07/27/2022</td>\n",
       "      <td>...</td>\n",
       "      <td>NaN</td>\n",
       "      <td>NaN</td>\n",
       "      <td>NaN</td>\n",
       "      <td>NaN</td>\n",
       "      <td>NaN</td>\n",
       "      <td>NaN</td>\n",
       "      <td>NaN</td>\n",
       "      <td>NaN</td>\n",
       "      <td>NaN</td>\n",
       "      <td>NaN</td>\n",
       "    </tr>\n",
       "  </tbody>\n",
       "</table>\n",
       "<p>5 rows × 35 columns</p>\n",
       "</div>"
      ],
      "text/plain": [
       "     Export time: 8/5/2022, 11:15:38 PM  Unnamed: 1    #  \\\n",
       "5110                                NaN         NaN  297   \n",
       "5111                                NaN         NaN  298   \n",
       "5112                                NaN         NaN  299   \n",
       "5113                                NaN         NaN  300   \n",
       "5114                                NaN         NaN  301   \n",
       "\n",
       "                                           Product Name  \\\n",
       "5110  Queen Lashes by Fitqueen Vegan & Cruelty free ...   \n",
       "5111  Colored Mascara Waterproof and Smudgeproof Lon...   \n",
       "5112  Beauty Without Cruelty Paraben-free Mascara Fu...   \n",
       "5113  PuroBIO Certified Organic Impeccable Restructu...   \n",
       "5114  Ardorlove Colored Eyelash Mascara - 7 Colors W...   \n",
       "\n",
       "                                    Brand   Price Mo. Sales D. Sales  \\\n",
       "5110                              Generic  $11.98       ...      ...   \n",
       "5111                              Fpoqbod   $3.59       ...      ...   \n",
       "5112               Beauty Without Cruelty  $17.04         2        0   \n",
       "5113  puroBIO Certified Organic Cosmetics  $16.90         0        0   \n",
       "5114                            Ardorlove  $20.99       ...      ...   \n",
       "\n",
       "     Mo. Revenue Date First Available  ... Export time: 8/7/2022, 6:40:07 PM  \\\n",
       "5110         ...           06/21/2022  ...                               NaN   \n",
       "5111         ...                  ...  ...                               NaN   \n",
       "5112         $34           10/13/2013  ...                               NaN   \n",
       "5113          $0           02/14/2019  ...                               NaN   \n",
       "5114         ...           07/27/2022  ...                               NaN   \n",
       "\n",
       "      Export time: 8/7/2022, 6:56:01 PM  Export time: 8/6/2022, 7:36:41 PM  \\\n",
       "5110                                NaN                                NaN   \n",
       "5111                                NaN                                NaN   \n",
       "5112                                NaN                                NaN   \n",
       "5113                                NaN                                NaN   \n",
       "5114                                NaN                                NaN   \n",
       "\n",
       "     Export time: 8/6/2022, 12:04:18 AM  Export time: 8/6/2022, 7:23:19 PM  \\\n",
       "5110                                NaN                                NaN   \n",
       "5111                                NaN                                NaN   \n",
       "5112                                NaN                                NaN   \n",
       "5113                                NaN                                NaN   \n",
       "5114                                NaN                                NaN   \n",
       "\n",
       "     Export time: 8/7/2022, 2:43:34 PM Export time: 8/7/2022, 5:49:08 PM  \\\n",
       "5110                               NaN                               NaN   \n",
       "5111                               NaN                               NaN   \n",
       "5112                               NaN                               NaN   \n",
       "5113                               NaN                               NaN   \n",
       "5114                               NaN                               NaN   \n",
       "\n",
       "     Export time: 8/6/2022, 12:17:36 AM Export time: 8/6/2022, 8:14:58 PM  \\\n",
       "5110                                NaN                               NaN   \n",
       "5111                                NaN                               NaN   \n",
       "5112                                NaN                               NaN   \n",
       "5113                                NaN                               NaN   \n",
       "5114                                NaN                               NaN   \n",
       "\n",
       "     Export time: 8/5/2022, 11:41:21 PM  \n",
       "5110                                NaN  \n",
       "5111                                NaN  \n",
       "5112                                NaN  \n",
       "5113                                NaN  \n",
       "5114                                NaN  \n",
       "\n",
       "[5 rows x 35 columns]"
      ]
     },
     "execution_count": 68,
     "metadata": {},
     "output_type": "execute_result"
    }
   ],
   "source": [
    "df.tail() #analyzing bottom half of dataset --> total of 5114 columns  "
   ]
  },
  {
   "cell_type": "markdown",
   "metadata": {},
   "source": [
    "### **Selecting Columns**\n",
    "  * changing df to a list of columns that we will be using total"
   ]
  },
  {
   "cell_type": "code",
   "execution_count": 4,
   "metadata": {},
   "outputs": [
    {
     "data": {
      "text/plain": [
       "Index(['Export time: 8/5/2022, 11:15:38 PM', 'Unnamed: 1', '#', 'Product Name',\n",
       "       'Brand', 'Price', 'Mo. Sales', 'D. Sales', 'Mo. Revenue',\n",
       "       'Date First Available', 'Net', 'Rating Number', 'Rating', 'Fees',\n",
       "       'Rank', 'Category', 'ASIN', 'Link', 'Export time: 8/7/2022, 6:21:05 PM',\n",
       "       'Export time: 8/5/2022, 11:51:51 PM',\n",
       "       'Export time: 8/7/2022, 5:59:11 PM',\n",
       "       'Export time: 8/6/2022, 9:02:34 PM',\n",
       "       'Export time: 8/7/2022, 3:02:41 PM',\n",
       "       'Export time: 8/6/2022, 4:22:56 PM',\n",
       "       'Export time: 8/6/2022, 8:45:40 PM',\n",
       "       'Export time: 8/7/2022, 6:40:07 PM',\n",
       "       'Export time: 8/7/2022, 6:56:01 PM',\n",
       "       'Export time: 8/6/2022, 7:36:41 PM',\n",
       "       'Export time: 8/6/2022, 12:04:18 AM',\n",
       "       'Export time: 8/6/2022, 7:23:19 PM',\n",
       "       'Export time: 8/7/2022, 2:43:34 PM',\n",
       "       'Export time: 8/7/2022, 5:49:08 PM',\n",
       "       'Export time: 8/6/2022, 12:17:36 AM',\n",
       "       'Export time: 8/6/2022, 8:14:58 PM',\n",
       "       'Export time: 8/5/2022, 11:41:21 PM'],\n",
       "      dtype='object')"
      ]
     },
     "execution_count": 4,
     "metadata": {},
     "output_type": "execute_result"
    }
   ],
   "source": [
    "df.columns #exploring all of the column names "
   ]
  },
  {
   "cell_type": "code",
   "execution_count": 5,
   "metadata": {},
   "outputs": [],
   "source": [
    "key_columns = [\"Product Name\", \"Brand\", \"Price\", \"Mo. Sales\", \"D. Sales\", \"Mo. Revenue\", \"Date First Available\", \"Net\", \"Rating Number\", \"Rating\", \"Fees\", \"Rank\",\n",
    "   \"Category\",\"ASIN\", \"Link\"] #selecting columns that will be used for this analysis "
   ]
  },
  {
   "cell_type": "code",
   "execution_count": 6,
   "metadata": {},
   "outputs": [
    {
     "data": {
      "text/html": [
       "<div>\n",
       "<style scoped>\n",
       "    .dataframe tbody tr th:only-of-type {\n",
       "        vertical-align: middle;\n",
       "    }\n",
       "\n",
       "    .dataframe tbody tr th {\n",
       "        vertical-align: top;\n",
       "    }\n",
       "\n",
       "    .dataframe thead th {\n",
       "        text-align: right;\n",
       "    }\n",
       "</style>\n",
       "<table border=\"1\" class=\"dataframe\">\n",
       "  <thead>\n",
       "    <tr style=\"text-align: right;\">\n",
       "      <th></th>\n",
       "      <th>Product Name</th>\n",
       "      <th>Brand</th>\n",
       "      <th>Price</th>\n",
       "      <th>Mo. Sales</th>\n",
       "      <th>D. Sales</th>\n",
       "      <th>Mo. Revenue</th>\n",
       "      <th>Date First Available</th>\n",
       "      <th>Net</th>\n",
       "      <th>Rating Number</th>\n",
       "      <th>Rating</th>\n",
       "      <th>Fees</th>\n",
       "      <th>Rank</th>\n",
       "      <th>Category</th>\n",
       "      <th>ASIN</th>\n",
       "      <th>Link</th>\n",
       "    </tr>\n",
       "  </thead>\n",
       "  <tbody>\n",
       "    <tr>\n",
       "      <th>0</th>\n",
       "      <td>Organic Bath Bombs - 25 Extra Large Pcs + 3 Bu...</td>\n",
       "      <td>Lagunamoon</td>\n",
       "      <td>$23.99</td>\n",
       "      <td>3768</td>\n",
       "      <td>125</td>\n",
       "      <td>$90394</td>\n",
       "      <td>03/08/2020</td>\n",
       "      <td>$14.6</td>\n",
       "      <td>4550</td>\n",
       "      <td>4.4</td>\n",
       "      <td>$9.39</td>\n",
       "      <td>6475.0</td>\n",
       "      <td>Beauty &amp; Personal Care</td>\n",
       "      <td>B085NJ7ZNN</td>\n",
       "      <td>https://www.amazon.com/dp/B085NJ7ZNN</td>\n",
       "    </tr>\n",
       "    <tr>\n",
       "      <th>1</th>\n",
       "      <td>Bath Bombs 7 Natural Bath Bomb Gift Set Handma...</td>\n",
       "      <td>STNTUS INNOVATIONS</td>\n",
       "      <td>$14.99</td>\n",
       "      <td>3082</td>\n",
       "      <td>102</td>\n",
       "      <td>$46199</td>\n",
       "      <td>06/11/2019</td>\n",
       "      <td>$7.6</td>\n",
       "      <td>1546</td>\n",
       "      <td>4.6</td>\n",
       "      <td>$7.39</td>\n",
       "      <td>5648.0</td>\n",
       "      <td>Beauty &amp; Personal Care</td>\n",
       "      <td>B07Q6BLNT6</td>\n",
       "      <td>https://www.amazon.com/dp/B07Q6BLNT6</td>\n",
       "    </tr>\n",
       "    <tr>\n",
       "      <th>2</th>\n",
       "      <td>LifeAround2Angels Bath Bombs Gift Set 12 USA m...</td>\n",
       "      <td>Lifearound2angels</td>\n",
       "      <td>$21.44</td>\n",
       "      <td>11256</td>\n",
       "      <td>375</td>\n",
       "      <td>$241329</td>\n",
       "      <td>01/25/2017</td>\n",
       "      <td>$12.43</td>\n",
       "      <td>40630</td>\n",
       "      <td>4.8</td>\n",
       "      <td>$9.01</td>\n",
       "      <td>672.0</td>\n",
       "      <td>Beauty &amp; Personal Care</td>\n",
       "      <td>B01MFGN8S5</td>\n",
       "      <td>https://www.amazon.com/dp/B01MFGN8S5</td>\n",
       "    </tr>\n",
       "    <tr>\n",
       "      <th>3</th>\n",
       "      <td>Nagaliving Bath Bombs Gift Set 10 Organic Bubb...</td>\n",
       "      <td>nagaliving</td>\n",
       "      <td>$9.99</td>\n",
       "      <td>4460</td>\n",
       "      <td>148</td>\n",
       "      <td>$44555</td>\n",
       "      <td>11/11/2019</td>\n",
       "      <td>$4.05</td>\n",
       "      <td>2634</td>\n",
       "      <td>4.4</td>\n",
       "      <td>$5.94</td>\n",
       "      <td>5041.0</td>\n",
       "      <td>Beauty &amp; Personal Care</td>\n",
       "      <td>B081DGZP4B</td>\n",
       "      <td>https://www.amazon.com/dp/B081DGZP4B</td>\n",
       "    </tr>\n",
       "    <tr>\n",
       "      <th>4</th>\n",
       "      <td>Bath Bombs for Women - 24 All Natural BathBomb...</td>\n",
       "      <td>Mineral Me California</td>\n",
       "      <td>$25.45</td>\n",
       "      <td>1638</td>\n",
       "      <td>54</td>\n",
       "      <td>$41687</td>\n",
       "      <td>08/17/2020</td>\n",
       "      <td>$14.9</td>\n",
       "      <td>2317</td>\n",
       "      <td>4.7</td>\n",
       "      <td>$10.55</td>\n",
       "      <td>9033.0</td>\n",
       "      <td>Beauty &amp; Personal Care</td>\n",
       "      <td>B08G4DB4DB</td>\n",
       "      <td>https://www.amazon.com/dp/B08G4DB4DB</td>\n",
       "    </tr>\n",
       "    <tr>\n",
       "      <th>...</th>\n",
       "      <td>...</td>\n",
       "      <td>...</td>\n",
       "      <td>...</td>\n",
       "      <td>...</td>\n",
       "      <td>...</td>\n",
       "      <td>...</td>\n",
       "      <td>...</td>\n",
       "      <td>...</td>\n",
       "      <td>...</td>\n",
       "      <td>...</td>\n",
       "      <td>...</td>\n",
       "      <td>...</td>\n",
       "      <td>...</td>\n",
       "      <td>...</td>\n",
       "      <td>...</td>\n",
       "    </tr>\n",
       "    <tr>\n",
       "      <th>5110</th>\n",
       "      <td>Queen Lashes by Fitqueen Vegan &amp; Cruelty free ...</td>\n",
       "      <td>Generic</td>\n",
       "      <td>$11.98</td>\n",
       "      <td>...</td>\n",
       "      <td>...</td>\n",
       "      <td>...</td>\n",
       "      <td>06/21/2022</td>\n",
       "      <td>...</td>\n",
       "      <td>4</td>\n",
       "      <td>5.0</td>\n",
       "      <td>NaN</td>\n",
       "      <td>1065336.0</td>\n",
       "      <td>...</td>\n",
       "      <td>B0B2VKJ95G</td>\n",
       "      <td>https://www.amazon.com/dp/B0B2VKJ95G</td>\n",
       "    </tr>\n",
       "    <tr>\n",
       "      <th>5111</th>\n",
       "      <td>Colored Mascara Waterproof and Smudgeproof Lon...</td>\n",
       "      <td>Fpoqbod</td>\n",
       "      <td>$3.59</td>\n",
       "      <td>...</td>\n",
       "      <td>...</td>\n",
       "      <td>...</td>\n",
       "      <td>...</td>\n",
       "      <td>...</td>\n",
       "      <td>0</td>\n",
       "      <td>NaN</td>\n",
       "      <td>NaN</td>\n",
       "      <td>NaN</td>\n",
       "      <td>...</td>\n",
       "      <td>B09QC8P6ZH</td>\n",
       "      <td>https://www.amazon.com/dp/B09QC8P6ZH</td>\n",
       "    </tr>\n",
       "    <tr>\n",
       "      <th>5112</th>\n",
       "      <td>Beauty Without Cruelty Paraben-free Mascara Fu...</td>\n",
       "      <td>Beauty Without Cruelty</td>\n",
       "      <td>$17.04</td>\n",
       "      <td>2</td>\n",
       "      <td>0</td>\n",
       "      <td>$34</td>\n",
       "      <td>10/13/2013</td>\n",
       "      <td>$10.94</td>\n",
       "      <td>365</td>\n",
       "      <td>4.3</td>\n",
       "      <td>$6.10</td>\n",
       "      <td>320863.0</td>\n",
       "      <td>Beauty &amp; Personal Care</td>\n",
       "      <td>B00B7V3XPU</td>\n",
       "      <td>https://www.amazon.com/dp/B00B7V3XPU</td>\n",
       "    </tr>\n",
       "    <tr>\n",
       "      <th>5113</th>\n",
       "      <td>PuroBIO Certified Organic Impeccable Restructu...</td>\n",
       "      <td>puroBIO Certified Organic Cosmetics</td>\n",
       "      <td>$16.90</td>\n",
       "      <td>0</td>\n",
       "      <td>0</td>\n",
       "      <td>$0</td>\n",
       "      <td>02/14/2019</td>\n",
       "      <td>$11.44</td>\n",
       "      <td>61</td>\n",
       "      <td>3.6</td>\n",
       "      <td>$5.46</td>\n",
       "      <td>658156.0</td>\n",
       "      <td>Beauty &amp; Personal Care</td>\n",
       "      <td>B00Z5ODHUG</td>\n",
       "      <td>https://www.amazon.com/dp/B00Z5ODHUG</td>\n",
       "    </tr>\n",
       "    <tr>\n",
       "      <th>5114</th>\n",
       "      <td>Ardorlove Colored Eyelash Mascara - 7 Colors W...</td>\n",
       "      <td>Ardorlove</td>\n",
       "      <td>$20.99</td>\n",
       "      <td>...</td>\n",
       "      <td>...</td>\n",
       "      <td>...</td>\n",
       "      <td>07/27/2022</td>\n",
       "      <td>...</td>\n",
       "      <td>0</td>\n",
       "      <td>NaN</td>\n",
       "      <td>NaN</td>\n",
       "      <td>610532.0</td>\n",
       "      <td>...</td>\n",
       "      <td>B094J53JCQ</td>\n",
       "      <td>https://www.amazon.com/dp/B094J53JCQ</td>\n",
       "    </tr>\n",
       "  </tbody>\n",
       "</table>\n",
       "<p>5115 rows × 15 columns</p>\n",
       "</div>"
      ],
      "text/plain": [
       "                                           Product Name  \\\n",
       "0     Organic Bath Bombs - 25 Extra Large Pcs + 3 Bu...   \n",
       "1     Bath Bombs 7 Natural Bath Bomb Gift Set Handma...   \n",
       "2     LifeAround2Angels Bath Bombs Gift Set 12 USA m...   \n",
       "3     Nagaliving Bath Bombs Gift Set 10 Organic Bubb...   \n",
       "4     Bath Bombs for Women - 24 All Natural BathBomb...   \n",
       "...                                                 ...   \n",
       "5110  Queen Lashes by Fitqueen Vegan & Cruelty free ...   \n",
       "5111  Colored Mascara Waterproof and Smudgeproof Lon...   \n",
       "5112  Beauty Without Cruelty Paraben-free Mascara Fu...   \n",
       "5113  PuroBIO Certified Organic Impeccable Restructu...   \n",
       "5114  Ardorlove Colored Eyelash Mascara - 7 Colors W...   \n",
       "\n",
       "                                    Brand   Price Mo. Sales D. Sales  \\\n",
       "0                              Lagunamoon  $23.99      3768      125   \n",
       "1                      STNTUS INNOVATIONS  $14.99      3082      102   \n",
       "2                       Lifearound2angels  $21.44     11256      375   \n",
       "3                              nagaliving   $9.99      4460      148   \n",
       "4                   Mineral Me California  $25.45      1638       54   \n",
       "...                                   ...     ...       ...      ...   \n",
       "5110                              Generic  $11.98       ...      ...   \n",
       "5111                              Fpoqbod   $3.59       ...      ...   \n",
       "5112               Beauty Without Cruelty  $17.04         2        0   \n",
       "5113  puroBIO Certified Organic Cosmetics  $16.90         0        0   \n",
       "5114                            Ardorlove  $20.99       ...      ...   \n",
       "\n",
       "     Mo. Revenue Date First Available     Net  Rating Number  Rating    Fees  \\\n",
       "0         $90394           03/08/2020   $14.6           4550     4.4   $9.39   \n",
       "1         $46199           06/11/2019    $7.6           1546     4.6   $7.39   \n",
       "2        $241329           01/25/2017  $12.43          40630     4.8   $9.01   \n",
       "3         $44555           11/11/2019   $4.05           2634     4.4   $5.94   \n",
       "4         $41687           08/17/2020   $14.9           2317     4.7  $10.55   \n",
       "...          ...                  ...     ...            ...     ...     ...   \n",
       "5110         ...           06/21/2022     ...              4     5.0     NaN   \n",
       "5111         ...                  ...     ...              0     NaN     NaN   \n",
       "5112         $34           10/13/2013  $10.94            365     4.3   $6.10   \n",
       "5113          $0           02/14/2019  $11.44             61     3.6   $5.46   \n",
       "5114         ...           07/27/2022     ...              0     NaN     NaN   \n",
       "\n",
       "           Rank                Category        ASIN  \\\n",
       "0        6475.0  Beauty & Personal Care  B085NJ7ZNN   \n",
       "1        5648.0  Beauty & Personal Care  B07Q6BLNT6   \n",
       "2         672.0  Beauty & Personal Care  B01MFGN8S5   \n",
       "3        5041.0  Beauty & Personal Care  B081DGZP4B   \n",
       "4        9033.0  Beauty & Personal Care  B08G4DB4DB   \n",
       "...         ...                     ...         ...   \n",
       "5110  1065336.0                     ...  B0B2VKJ95G   \n",
       "5111        NaN                     ...  B09QC8P6ZH   \n",
       "5112   320863.0  Beauty & Personal Care  B00B7V3XPU   \n",
       "5113   658156.0  Beauty & Personal Care  B00Z5ODHUG   \n",
       "5114   610532.0                     ...  B094J53JCQ   \n",
       "\n",
       "                                      Link  \n",
       "0     https://www.amazon.com/dp/B085NJ7ZNN  \n",
       "1     https://www.amazon.com/dp/B07Q6BLNT6  \n",
       "2     https://www.amazon.com/dp/B01MFGN8S5  \n",
       "3     https://www.amazon.com/dp/B081DGZP4B  \n",
       "4     https://www.amazon.com/dp/B08G4DB4DB  \n",
       "...                                    ...  \n",
       "5110  https://www.amazon.com/dp/B0B2VKJ95G  \n",
       "5111  https://www.amazon.com/dp/B09QC8P6ZH  \n",
       "5112  https://www.amazon.com/dp/B00B7V3XPU  \n",
       "5113  https://www.amazon.com/dp/B00Z5ODHUG  \n",
       "5114  https://www.amazon.com/dp/B094J53JCQ  \n",
       "\n",
       "[5115 rows x 15 columns]"
      ]
     },
     "execution_count": 6,
     "metadata": {},
     "output_type": "execute_result"
    }
   ],
   "source": [
    "df = df[key_columns]\n",
    "df"
   ]
  },
  {
   "cell_type": "code",
   "execution_count": 7,
   "metadata": {},
   "outputs": [
    {
     "data": {
      "text/plain": [
       "Index(['Product Name', 'Brand', 'Price', 'Mo. Sales', 'D. Sales',\n",
       "       'Mo. Revenue', 'Date First Available', 'Net', 'Rating Number', 'Rating',\n",
       "       'Fees', 'Rank', 'Category', 'ASIN', 'Link'],\n",
       "      dtype='object')"
      ]
     },
     "execution_count": 7,
     "metadata": {},
     "output_type": "execute_result"
    }
   ],
   "source": [
    "df.columns"
   ]
  },
  {
   "cell_type": "markdown",
   "metadata": {},
   "source": [
    "**Cleaning Column Names**\n",
    "* changing column names to lower case\n",
    "* removing space from columns names replacing with underscore\n",
    "* removing \".\" from column names "
   ]
  },
  {
   "cell_type": "code",
   "execution_count": 73,
   "metadata": {},
   "outputs": [
    {
     "name": "stdout",
     "output_type": "stream",
     "text": [
      "Index(['product name', 'brand', 'price', 'mo. sales', 'd. sales',\n",
      "       'mo. revenue', 'date first available', 'net', 'rating number', 'rating',\n",
      "       'fees', 'rank', 'category', 'asin', 'link'],\n",
      "      dtype='object')\n",
      "Index(['product_name', 'brand', 'price', 'mo._sales', 'd._sales',\n",
      "       'mo._revenue', 'date_first_available', 'net', 'rating_number', 'rating',\n",
      "       'fees', 'rank', 'category', 'asin', 'link'],\n",
      "      dtype='object')\n",
      "Index(['product_name', 'brand', 'price', 'mo_sales', 'd_sales', 'mo_revenue',\n",
      "       'date_first_available', 'net', 'rating_number', 'rating', 'fees',\n",
      "       'rank', 'category', 'asin', 'link'],\n",
      "      dtype='object')\n"
     ]
    },
    {
     "name": "stderr",
     "output_type": "stream",
     "text": [
      "C:\\Users\\Alexandria\\AppData\\Local\\Temp\\ipykernel_15440\\3859255268.py:14: FutureWarning: The default value of regex will change from True to False in a future version. In addition, single character regular expressions will *not* be treated as literal strings when regex=True.\n",
      "  return x.str.replace('.','')#removing .\n"
     ]
    }
   ],
   "source": [
    "x = df.columns\n",
    "def lower(x):\n",
    "    return x.str.lower() #changing column names to lowercase\n",
    "\n",
    "x = lower(x)\n",
    "print(x)\n",
    "\n",
    "def remove(x):\n",
    "   return x.str.replace(' ', '_') #replacing space with underscore \n",
    "x = remove(x)\n",
    "print(x)\n",
    "\n",
    "def remove(x):\n",
    "    return x.str.replace('.','')#removing . \n",
    "x= remove(x)\n",
    "print(x)\n",
    "\n",
    "df.columns = x #assigning column names \n",
    "\n",
    "\n",
    "def column_names(x):\n",
    "    return x.str.lower()\n",
    "    return x.str\n",
    "\n",
    "#remove(x)\n",
    "#x = remove(x)\n",
    "\n",
    "#print(x)\n",
    "\n",
    "#def remove(x):\n",
    "#    return x.str.replace('.', '')\n",
    "\n",
    "# remove(x)\n",
    "# print(x)"
   ]
  },
  {
   "cell_type": "code",
   "execution_count": 74,
   "metadata": {},
   "outputs": [
    {
     "ename": "IndentationError",
     "evalue": "unexpected indent (2851390667.py, line 2)",
     "output_type": "error",
     "traceback": [
      "\u001b[1;36m  Input \u001b[1;32mIn [74]\u001b[1;36m\u001b[0m\n\u001b[1;33m    def column_names(x):\u001b[0m\n\u001b[1;37m    ^\u001b[0m\n\u001b[1;31mIndentationError\u001b[0m\u001b[1;31m:\u001b[0m unexpected indent\n"
     ]
    }
   ],
   "source": [
    "   list = [x]\n",
    "    def column_names(x): \n",
    "        result = []\n",
    "        for col in x:\n",
    "             new_col = col.lower()\n",
    "        new_col = re.sub(r'[^\\w\\s]', '', new_col) # remove puncutation\n",
    "        new_col = new_col.replace(' ', '_')\n",
    "        result.append(new_col)\n",
    "    return result\n",
    "\n",
    "column_names(list)\n",
    "    "
   ]
  },
  {
   "cell_type": "markdown",
   "metadata": {},
   "source": [
    "- #homework: apply the function to columns in df\n",
    "- loop through each column (assume it's a list)\n",
    "- you have a column\n",
    "- take the column change it to lower case\n",
    "- take the new column and replace the spaces with underscores\n",
    "- take the new column and remove puncutation\n",
    "- return new column"
   ]
  },
  {
   "cell_type": "code",
   "execution_count": 8,
   "metadata": {},
   "outputs": [
    {
     "data": {
      "text/plain": [
       "Index(['Product Name', 'Brand', 'Price', 'Mo. Sales', 'D. Sales',\n",
       "       'Mo. Revenue', 'Date First Available', 'Net', 'Rating Number', 'Rating',\n",
       "       'Fees', 'Rank', 'Category', 'ASIN', 'Link'],\n",
       "      dtype='object')"
      ]
     },
     "execution_count": 8,
     "metadata": {},
     "output_type": "execute_result"
    }
   ],
   "source": [
    "df.columns"
   ]
  },
  {
   "cell_type": "code",
   "execution_count": 8,
   "metadata": {},
   "outputs": [
    {
     "data": {
      "text/plain": [
       "['product_name']"
      ]
     },
     "execution_count": 8,
     "metadata": {},
     "output_type": "execute_result"
    }
   ],
   "source": [
    "import re \n",
    "x = list(df.columns)\n",
    " \n",
    "#list = ['a hello', 'b.', 'c HELLO'] # ['a_hello', 'b', 'c_hello']\n",
    "\n",
    "def col_names(x: list) -> list[str]:\n",
    "    result = []\n",
    "    for col in x:\n",
    "        new_col = col.lower()\n",
    "        new_col = re.sub(r'[^\\w\\s]', '', new_col) # remove puncutation\n",
    "        new_col = new_col.replace(' ', '_')\n",
    "        result.append(new_col)\n",
    "        return result\n",
    "\n",
    "col_names(x)\n",
    "    "
   ]
  },
  {
   "cell_type": "markdown",
   "metadata": {},
   "source": [
    "## Homework\n",
    "\n",
    "1) the difference between `break`, `end`, `return`"
   ]
  },
  {
   "cell_type": "markdown",
   "metadata": {},
   "source": [
    "\n",
    "\n",
    "* assign input of columns to a Variable\n",
    "* convert columns to a list\n",
    "* creating the first line of the function with (x that holds input of column names) returning a list fo strings\n",
    "* the goal is to complete 3 tasks automate in this list whether via for loop or function\n",
    "* create an empty list because it uis the result ot the (y target structure) wanting to return\n",
    "* looping through each iterable in 6the originial list x \n",
    "* first assigning the first tasks to the new_col variable \n",
    "* next reassigning new_col to 2nd task\n",
    "* reassigning new_col to the 3 task \n",
    "* new_col assign is to make sure the variable gets updated\n",
    "* return will return empty list now filled withe everything we appended it to\n",
    "* now we are calling the function to run with original input x "
   ]
  },
  {
   "cell_type": "code",
   "execution_count": null,
   "metadata": {},
   "outputs": [],
   "source": [
    "x = df.columns \n",
    "\n",
    "def col_names(x):\n",
    "    new_ col = col.lower()\n",
    "    new_col = re.sub(r'[^\\w\\s]', '', new_col) # remove puncutation\n",
    "    new_col = new_col.replace(' ', '_')\n",
    "return x\n"
   ]
  },
  {
   "cell_type": "code",
   "execution_count": 38,
   "metadata": {},
   "outputs": [
    {
     "data": {
      "text/plain": [
       "['a_hello', 'b', 'c_hello']"
      ]
     },
     "execution_count": 38,
     "metadata": {},
     "output_type": "execute_result"
    }
   ],
   "source": [
    "import re\n",
    "list_ = ['a hello', 'b.', 'c HELLO'] # ['a_hello', 'b', 'c_hello']\n",
    "def test_func(x: list) -> list[str]:\n",
    "    result = []\n",
    "    for col in x:\n",
    "        new_col = col.lower()\n",
    "        new_col = re.sub(r'[^\\w\\s]', '', new_col) # remove puncutation\n",
    "        new_col = new_col.replace(' ', '_')\n",
    "        result.append(new_col)\n",
    "    return result\n",
    "\n",
    "test_func(list)\n",
    "    \n",
    "    \n",
    "    "
   ]
  },
  {
   "cell_type": "code",
   "execution_count": 61,
   "metadata": {},
   "outputs": [
    {
     "data": {
      "text/plain": [
       "[60, 60, 60, 60]"
      ]
     },
     "execution_count": 61,
     "metadata": {},
     "output_type": "execute_result"
    }
   ],
   "source": [
    "def test_fest(x: int) -> list:\n",
    "    '''This function multiplies by 10 and returns 5 copies in a list\n",
    "    \n",
    "    TEST CASE: \n",
    "    \n",
    "    INPUT: 6\n",
    "    OUTPUT: [60, 60, 60, 60, 60]\n",
    "    '''\n",
    "    result = []\n",
    "    \n",
    "    for i in range(5):\n",
    "        result.append(x*10)\n",
    "\n",
    "    #result.append(x*10)\n",
    "    #result.append(x*10)\n",
    "    #result.append(x*10)\n",
    "    #result.append(x*10)\n",
    "    #result.append(x**5)\n",
    "    #result.append(x**10)\n",
    "    #result.append(x*10)\n",
    "   #homework\n",
    "    \n",
    "    return result\n",
    "\n",
    "test_fest(6)"
   ]
  },
  {
   "cell_type": "markdown",
   "metadata": {},
   "source": [
    "* goal is to return [60,60,60,60,60] 5 times in a list\n",
    "* we are appending to an empty list \n",
    "* using  result.append(x*10) will return 1 [60] in a list\n",
    "* now spread out 60 in a list horizontally 5 times \n",
    "* how would you repeat something in code not in math 5 times ? \n",
    "  \n",
    "\n",
    "\n",
    "for i in range(5):\n",
    "print(i)"
   ]
  },
  {
   "cell_type": "code",
   "execution_count": 10,
   "metadata": {},
   "outputs": [
    {
     "data": {
      "text/plain": [
       "Index(['product_name', 'brand', 'price', 'mo_sales', 'd_sales', 'mo_revenue',\n",
       "       'date_first_available', 'net', 'rating_number', 'rating', 'fees',\n",
       "       'rank', 'category', 'asin', 'link'],\n",
       "      dtype='object')"
      ]
     },
     "execution_count": 10,
     "metadata": {},
     "output_type": "execute_result"
    }
   ],
   "source": [
    "df.columns"
   ]
  },
  {
   "cell_type": "markdown",
   "metadata": {},
   "source": [
    "# **Break Down Of Which Each Column is Doing**\n",
    "##### **Mini Intro**: Evaluating search results for 18 keywords in Amazon. Each keyword has their own csv file. I combined each keyword csv into 1 large csv.   \n",
    "\n",
    "![amazongift](amazongift.gif)\n",
    "##### **1 keyword --> 1 csv file (of product listing search results) containing 13 attributes**\n",
    "##### **18 keywords total --> 18 csvs of product listing search results**\n",
    "* 1.) Product Name: This is the indivdual product names that show up on the search pages under the keywords. \n",
    "* 2.) Brand: the specific brand products of the search pages. \n",
    "* 3.) Price: Current buy box price-  The price of each individual product on search pages that shows the product of a high performance seller with the most competitive price.\n",
    "* 4.) Monthly Sales: 30 day unit sales estimate- This is the total monthly sales per product under search results per keyword.\n",
    "* 5.) Daily Sales: Daily unit sales estimate- This is individual daily sales per each product under the 18 search terms. \n",
    "* 6.) Monthly Revenue: 30 day gross revenue - This monthly revenue estimate per indiduval product under search results combined under keywords\n",
    "* 7.) Date First Available: This is the date the individual  product per record is first availble \n",
    "* 8.) Net: Payout to sellers after subtracting aamazon fees- This is the net profit for each inidvual product that amazon seller totaled\n",
    "* 9.) Rating Number: This is  graded on a scale from 1-10, with 10 being the highest score. This will help aamazon sellers find products that need listing improvements, good insight on what competitors are doing wrong, and how a seller can do better on listing.\n",
    "* 10.) Fees: - estimated amazon fees taken off \n",
    "* 11.) Rank:  Rank is the sales rank ranging from 1 to 1 million(or higher depending on the product category)\n",
    "* 12.) Category: indivual product search results are classified in categories on the amazon website \n",
    "* 13.) Link: website link to indidvual product per record "
   ]
  },
  {
   "cell_type": "markdown",
   "metadata": {},
   "source": [
    "### **Transitioning to Data Cleaning and Filling in Missing Values Per Column**\n",
    "* Evaluating columns that did not import correctly\n",
    "* Evaluating columns with missing data\n",
    "* Transitioning to a bit of data cleaning-Removing '...' three dots from all of the dataset\n",
    "* Dropping rows where the entire row is missing\n",
    "  "
   ]
  },
  {
   "cell_type": "code",
   "execution_count": 11,
   "metadata": {},
   "outputs": [
    {
     "data": {
      "text/plain": [
       "product_name             object\n",
       "brand                    object\n",
       "price                    object\n",
       "mo_sales                 object\n",
       "d_sales                  object\n",
       "mo_revenue               object\n",
       "date_first_available     object\n",
       "net                      object\n",
       "rating_number             int64\n",
       "rating                  float64\n",
       "fees                     object\n",
       "rank                    float64\n",
       "category                 object\n",
       "asin                     object\n",
       "link                     object\n",
       "dtype: object"
      ]
     },
     "execution_count": 11,
     "metadata": {},
     "output_type": "execute_result"
    }
   ],
   "source": [
    "df.dtypes #getting a sense of what columns did not import with correct datatype "
   ]
  },
  {
   "cell_type": "code",
   "execution_count": 12,
   "metadata": {},
   "outputs": [
    {
     "data": {
      "text/plain": [
       "product_name              7\n",
       "brand                     0\n",
       "price                    28\n",
       "mo_sales                 25\n",
       "d_sales                  26\n",
       "mo_revenue               26\n",
       "date_first_available     12\n",
       "net                      92\n",
       "rating_number             0\n",
       "rating                  414\n",
       "fees                    852\n",
       "rank                     94\n",
       "category                  2\n",
       "asin                      0\n",
       "link                      0\n",
       "dtype: int64"
      ]
     },
     "execution_count": 12,
     "metadata": {},
     "output_type": "execute_result"
    }
   ],
   "source": [
    "df.isnull().sum() #analyzing which columns have missing values "
   ]
  },
  {
   "cell_type": "code",
   "execution_count": 13,
   "metadata": {},
   "outputs": [
    {
     "data": {
      "text/plain": [
       "False"
      ]
     },
     "execution_count": 13,
     "metadata": {},
     "output_type": "execute_result"
    }
   ],
   "source": [
    "#removing characters \n",
    "df.replace('...', np.nan, inplace = True) #removing '...' three dots from dataset\n",
    "'...' in df #checking if the dots removed"
   ]
  },
  {
   "cell_type": "code",
   "execution_count": 14,
   "metadata": {},
   "outputs": [
    {
     "data": {
      "text/html": [
       "<div>\n",
       "<style scoped>\n",
       "    .dataframe tbody tr th:only-of-type {\n",
       "        vertical-align: middle;\n",
       "    }\n",
       "\n",
       "    .dataframe tbody tr th {\n",
       "        vertical-align: top;\n",
       "    }\n",
       "\n",
       "    .dataframe thead th {\n",
       "        text-align: right;\n",
       "    }\n",
       "</style>\n",
       "<table border=\"1\" class=\"dataframe\">\n",
       "  <thead>\n",
       "    <tr style=\"text-align: right;\">\n",
       "      <th></th>\n",
       "      <th>product_name</th>\n",
       "      <th>brand</th>\n",
       "      <th>price</th>\n",
       "      <th>mo_sales</th>\n",
       "      <th>d_sales</th>\n",
       "      <th>mo_revenue</th>\n",
       "      <th>date_first_available</th>\n",
       "      <th>net</th>\n",
       "      <th>rating_number</th>\n",
       "      <th>rating</th>\n",
       "      <th>fees</th>\n",
       "      <th>rank</th>\n",
       "      <th>category</th>\n",
       "      <th>asin</th>\n",
       "      <th>link</th>\n",
       "    </tr>\n",
       "  </thead>\n",
       "  <tbody>\n",
       "    <tr>\n",
       "      <th>0</th>\n",
       "      <td>Organic Bath Bombs - 25 Extra Large Pcs + 3 Bu...</td>\n",
       "      <td>Lagunamoon</td>\n",
       "      <td>$23.99</td>\n",
       "      <td>3768</td>\n",
       "      <td>125</td>\n",
       "      <td>$90394</td>\n",
       "      <td>03/08/2020</td>\n",
       "      <td>$14.6</td>\n",
       "      <td>4550</td>\n",
       "      <td>4.4</td>\n",
       "      <td>$9.39</td>\n",
       "      <td>6475.0</td>\n",
       "      <td>Beauty &amp; Personal Care</td>\n",
       "      <td>B085NJ7ZNN</td>\n",
       "      <td>https://www.amazon.com/dp/B085NJ7ZNN</td>\n",
       "    </tr>\n",
       "    <tr>\n",
       "      <th>1</th>\n",
       "      <td>Bath Bombs 7 Natural Bath Bomb Gift Set Handma...</td>\n",
       "      <td>STNTUS INNOVATIONS</td>\n",
       "      <td>$14.99</td>\n",
       "      <td>3082</td>\n",
       "      <td>102</td>\n",
       "      <td>$46199</td>\n",
       "      <td>06/11/2019</td>\n",
       "      <td>$7.6</td>\n",
       "      <td>1546</td>\n",
       "      <td>4.6</td>\n",
       "      <td>$7.39</td>\n",
       "      <td>5648.0</td>\n",
       "      <td>Beauty &amp; Personal Care</td>\n",
       "      <td>B07Q6BLNT6</td>\n",
       "      <td>https://www.amazon.com/dp/B07Q6BLNT6</td>\n",
       "    </tr>\n",
       "    <tr>\n",
       "      <th>2</th>\n",
       "      <td>LifeAround2Angels Bath Bombs Gift Set 12 USA m...</td>\n",
       "      <td>Lifearound2angels</td>\n",
       "      <td>$21.44</td>\n",
       "      <td>11256</td>\n",
       "      <td>375</td>\n",
       "      <td>$241329</td>\n",
       "      <td>01/25/2017</td>\n",
       "      <td>$12.43</td>\n",
       "      <td>40630</td>\n",
       "      <td>4.8</td>\n",
       "      <td>$9.01</td>\n",
       "      <td>672.0</td>\n",
       "      <td>Beauty &amp; Personal Care</td>\n",
       "      <td>B01MFGN8S5</td>\n",
       "      <td>https://www.amazon.com/dp/B01MFGN8S5</td>\n",
       "    </tr>\n",
       "    <tr>\n",
       "      <th>3</th>\n",
       "      <td>Nagaliving Bath Bombs Gift Set 10 Organic Bubb...</td>\n",
       "      <td>nagaliving</td>\n",
       "      <td>$9.99</td>\n",
       "      <td>4460</td>\n",
       "      <td>148</td>\n",
       "      <td>$44555</td>\n",
       "      <td>11/11/2019</td>\n",
       "      <td>$4.05</td>\n",
       "      <td>2634</td>\n",
       "      <td>4.4</td>\n",
       "      <td>$5.94</td>\n",
       "      <td>5041.0</td>\n",
       "      <td>Beauty &amp; Personal Care</td>\n",
       "      <td>B081DGZP4B</td>\n",
       "      <td>https://www.amazon.com/dp/B081DGZP4B</td>\n",
       "    </tr>\n",
       "    <tr>\n",
       "      <th>4</th>\n",
       "      <td>Bath Bombs for Women - 24 All Natural BathBomb...</td>\n",
       "      <td>Mineral Me California</td>\n",
       "      <td>$25.45</td>\n",
       "      <td>1638</td>\n",
       "      <td>54</td>\n",
       "      <td>$41687</td>\n",
       "      <td>08/17/2020</td>\n",
       "      <td>$14.9</td>\n",
       "      <td>2317</td>\n",
       "      <td>4.7</td>\n",
       "      <td>$10.55</td>\n",
       "      <td>9033.0</td>\n",
       "      <td>Beauty &amp; Personal Care</td>\n",
       "      <td>B08G4DB4DB</td>\n",
       "      <td>https://www.amazon.com/dp/B08G4DB4DB</td>\n",
       "    </tr>\n",
       "    <tr>\n",
       "      <th>...</th>\n",
       "      <td>...</td>\n",
       "      <td>...</td>\n",
       "      <td>...</td>\n",
       "      <td>...</td>\n",
       "      <td>...</td>\n",
       "      <td>...</td>\n",
       "      <td>...</td>\n",
       "      <td>...</td>\n",
       "      <td>...</td>\n",
       "      <td>...</td>\n",
       "      <td>...</td>\n",
       "      <td>...</td>\n",
       "      <td>...</td>\n",
       "      <td>...</td>\n",
       "      <td>...</td>\n",
       "    </tr>\n",
       "    <tr>\n",
       "      <th>5110</th>\n",
       "      <td>Queen Lashes by Fitqueen Vegan &amp; Cruelty free ...</td>\n",
       "      <td>Generic</td>\n",
       "      <td>$11.98</td>\n",
       "      <td>NaN</td>\n",
       "      <td>NaN</td>\n",
       "      <td>NaN</td>\n",
       "      <td>06/21/2022</td>\n",
       "      <td>NaN</td>\n",
       "      <td>4</td>\n",
       "      <td>5.0</td>\n",
       "      <td>NaN</td>\n",
       "      <td>1065336.0</td>\n",
       "      <td>NaN</td>\n",
       "      <td>B0B2VKJ95G</td>\n",
       "      <td>https://www.amazon.com/dp/B0B2VKJ95G</td>\n",
       "    </tr>\n",
       "    <tr>\n",
       "      <th>5111</th>\n",
       "      <td>Colored Mascara Waterproof and Smudgeproof Lon...</td>\n",
       "      <td>Fpoqbod</td>\n",
       "      <td>$3.59</td>\n",
       "      <td>NaN</td>\n",
       "      <td>NaN</td>\n",
       "      <td>NaN</td>\n",
       "      <td>NaN</td>\n",
       "      <td>NaN</td>\n",
       "      <td>0</td>\n",
       "      <td>NaN</td>\n",
       "      <td>NaN</td>\n",
       "      <td>NaN</td>\n",
       "      <td>NaN</td>\n",
       "      <td>B09QC8P6ZH</td>\n",
       "      <td>https://www.amazon.com/dp/B09QC8P6ZH</td>\n",
       "    </tr>\n",
       "    <tr>\n",
       "      <th>5112</th>\n",
       "      <td>Beauty Without Cruelty Paraben-free Mascara Fu...</td>\n",
       "      <td>Beauty Without Cruelty</td>\n",
       "      <td>$17.04</td>\n",
       "      <td>2</td>\n",
       "      <td>0</td>\n",
       "      <td>$34</td>\n",
       "      <td>10/13/2013</td>\n",
       "      <td>$10.94</td>\n",
       "      <td>365</td>\n",
       "      <td>4.3</td>\n",
       "      <td>$6.10</td>\n",
       "      <td>320863.0</td>\n",
       "      <td>Beauty &amp; Personal Care</td>\n",
       "      <td>B00B7V3XPU</td>\n",
       "      <td>https://www.amazon.com/dp/B00B7V3XPU</td>\n",
       "    </tr>\n",
       "    <tr>\n",
       "      <th>5113</th>\n",
       "      <td>PuroBIO Certified Organic Impeccable Restructu...</td>\n",
       "      <td>puroBIO Certified Organic Cosmetics</td>\n",
       "      <td>$16.90</td>\n",
       "      <td>0</td>\n",
       "      <td>0</td>\n",
       "      <td>$0</td>\n",
       "      <td>02/14/2019</td>\n",
       "      <td>$11.44</td>\n",
       "      <td>61</td>\n",
       "      <td>3.6</td>\n",
       "      <td>$5.46</td>\n",
       "      <td>658156.0</td>\n",
       "      <td>Beauty &amp; Personal Care</td>\n",
       "      <td>B00Z5ODHUG</td>\n",
       "      <td>https://www.amazon.com/dp/B00Z5ODHUG</td>\n",
       "    </tr>\n",
       "    <tr>\n",
       "      <th>5114</th>\n",
       "      <td>Ardorlove Colored Eyelash Mascara - 7 Colors W...</td>\n",
       "      <td>Ardorlove</td>\n",
       "      <td>$20.99</td>\n",
       "      <td>NaN</td>\n",
       "      <td>NaN</td>\n",
       "      <td>NaN</td>\n",
       "      <td>07/27/2022</td>\n",
       "      <td>NaN</td>\n",
       "      <td>0</td>\n",
       "      <td>NaN</td>\n",
       "      <td>NaN</td>\n",
       "      <td>610532.0</td>\n",
       "      <td>NaN</td>\n",
       "      <td>B094J53JCQ</td>\n",
       "      <td>https://www.amazon.com/dp/B094J53JCQ</td>\n",
       "    </tr>\n",
       "  </tbody>\n",
       "</table>\n",
       "<p>5115 rows × 15 columns</p>\n",
       "</div>"
      ],
      "text/plain": [
       "                                           product_name  \\\n",
       "0     Organic Bath Bombs - 25 Extra Large Pcs + 3 Bu...   \n",
       "1     Bath Bombs 7 Natural Bath Bomb Gift Set Handma...   \n",
       "2     LifeAround2Angels Bath Bombs Gift Set 12 USA m...   \n",
       "3     Nagaliving Bath Bombs Gift Set 10 Organic Bubb...   \n",
       "4     Bath Bombs for Women - 24 All Natural BathBomb...   \n",
       "...                                                 ...   \n",
       "5110  Queen Lashes by Fitqueen Vegan & Cruelty free ...   \n",
       "5111  Colored Mascara Waterproof and Smudgeproof Lon...   \n",
       "5112  Beauty Without Cruelty Paraben-free Mascara Fu...   \n",
       "5113  PuroBIO Certified Organic Impeccable Restructu...   \n",
       "5114  Ardorlove Colored Eyelash Mascara - 7 Colors W...   \n",
       "\n",
       "                                    brand   price mo_sales d_sales mo_revenue  \\\n",
       "0                              Lagunamoon  $23.99     3768     125     $90394   \n",
       "1                      STNTUS INNOVATIONS  $14.99     3082     102     $46199   \n",
       "2                       Lifearound2angels  $21.44    11256     375    $241329   \n",
       "3                              nagaliving   $9.99     4460     148     $44555   \n",
       "4                   Mineral Me California  $25.45     1638      54     $41687   \n",
       "...                                   ...     ...      ...     ...        ...   \n",
       "5110                              Generic  $11.98      NaN     NaN        NaN   \n",
       "5111                              Fpoqbod   $3.59      NaN     NaN        NaN   \n",
       "5112               Beauty Without Cruelty  $17.04        2       0        $34   \n",
       "5113  puroBIO Certified Organic Cosmetics  $16.90        0       0         $0   \n",
       "5114                            Ardorlove  $20.99      NaN     NaN        NaN   \n",
       "\n",
       "     date_first_available     net  rating_number  rating    fees       rank  \\\n",
       "0              03/08/2020   $14.6           4550     4.4   $9.39     6475.0   \n",
       "1              06/11/2019    $7.6           1546     4.6   $7.39     5648.0   \n",
       "2              01/25/2017  $12.43          40630     4.8   $9.01      672.0   \n",
       "3              11/11/2019   $4.05           2634     4.4   $5.94     5041.0   \n",
       "4              08/17/2020   $14.9           2317     4.7  $10.55     9033.0   \n",
       "...                   ...     ...            ...     ...     ...        ...   \n",
       "5110           06/21/2022     NaN              4     5.0     NaN  1065336.0   \n",
       "5111                  NaN     NaN              0     NaN     NaN        NaN   \n",
       "5112           10/13/2013  $10.94            365     4.3   $6.10   320863.0   \n",
       "5113           02/14/2019  $11.44             61     3.6   $5.46   658156.0   \n",
       "5114           07/27/2022     NaN              0     NaN     NaN   610532.0   \n",
       "\n",
       "                    category        asin                                  link  \n",
       "0     Beauty & Personal Care  B085NJ7ZNN  https://www.amazon.com/dp/B085NJ7ZNN  \n",
       "1     Beauty & Personal Care  B07Q6BLNT6  https://www.amazon.com/dp/B07Q6BLNT6  \n",
       "2     Beauty & Personal Care  B01MFGN8S5  https://www.amazon.com/dp/B01MFGN8S5  \n",
       "3     Beauty & Personal Care  B081DGZP4B  https://www.amazon.com/dp/B081DGZP4B  \n",
       "4     Beauty & Personal Care  B08G4DB4DB  https://www.amazon.com/dp/B08G4DB4DB  \n",
       "...                      ...         ...                                   ...  \n",
       "5110                     NaN  B0B2VKJ95G  https://www.amazon.com/dp/B0B2VKJ95G  \n",
       "5111                     NaN  B09QC8P6ZH  https://www.amazon.com/dp/B09QC8P6ZH  \n",
       "5112  Beauty & Personal Care  B00B7V3XPU  https://www.amazon.com/dp/B00B7V3XPU  \n",
       "5113  Beauty & Personal Care  B00Z5ODHUG  https://www.amazon.com/dp/B00Z5ODHUG  \n",
       "5114                     NaN  B094J53JCQ  https://www.amazon.com/dp/B094J53JCQ  \n",
       "\n",
       "[5115 rows x 15 columns]"
      ]
     },
     "execution_count": 14,
     "metadata": {},
     "output_type": "execute_result"
    }
   ],
   "source": [
    "df.dropna(axis = 'index', how = 'all') # removing rows with entire data missing"
   ]
  },
  {
   "cell_type": "code",
   "execution_count": 15,
   "metadata": {},
   "outputs": [
    {
     "data": {
      "text/plain": [
       "product_name              7\n",
       "brand                    12\n",
       "price                    28\n",
       "mo_sales                716\n",
       "d_sales                 717\n",
       "mo_revenue              717\n",
       "date_first_available    198\n",
       "net                     852\n",
       "rating_number             0\n",
       "rating                  414\n",
       "fees                    852\n",
       "rank                     94\n",
       "category                607\n",
       "asin                      0\n",
       "link                      0\n",
       "dtype: int64"
      ]
     },
     "execution_count": 15,
     "metadata": {},
     "output_type": "execute_result"
    }
   ],
   "source": [
    "df.isnull().sum() #checking to see if there is anymore missing values "
   ]
  },
  {
   "cell_type": "markdown",
   "metadata": {},
   "source": [
    "#### **Starting with cleaning the first column \"product_name\" --> to last column \"link\"**\n",
    " * converting data types that imported incorrectly\n",
    " * filling in missing values "
   ]
  },
  {
   "cell_type": "code",
   "execution_count": 16,
   "metadata": {},
   "outputs": [
    {
     "data": {
      "text/plain": [
       "7"
      ]
     },
     "execution_count": 16,
     "metadata": {},
     "output_type": "execute_result"
    }
   ],
   "source": [
    "df['product_name'].isnull().sum() #taking account of missing values in product name "
   ]
  },
  {
   "cell_type": "code",
   "execution_count": 17,
   "metadata": {},
   "outputs": [
    {
     "data": {
      "text/plain": [
       "product_name              7\n",
       "brand                    12\n",
       "price                    28\n",
       "mo_sales                716\n",
       "d_sales                 717\n",
       "mo_revenue              717\n",
       "date_first_available    198\n",
       "net                     852\n",
       "rating_number             0\n",
       "rating                  414\n",
       "fees                    852\n",
       "rank                     94\n",
       "category                607\n",
       "asin                      0\n",
       "link                      0\n",
       "dtype: int64"
      ]
     },
     "execution_count": 17,
     "metadata": {},
     "output_type": "execute_result"
    }
   ],
   "source": [
    "df.isnull().sum() #checking for the exact count of missing values for each column "
   ]
  },
  {
   "cell_type": "markdown",
   "metadata": {},
   "source": [
    "  **Filling in the missing values in categorical columns with the value \"unknown\" and removing the $ from the entire dataframe**\n",
    "  * filling in product_nam and brand columns missing values with unknown\n",
    "  * cleaning up price column, removing $ from entire dataframe"
   ]
  },
  {
   "cell_type": "code",
   "execution_count": 18,
   "metadata": {},
   "outputs": [],
   "source": [
    "df['product_name'] =df['product_name'].fillna(\"unknown\")  # filling in the 7 missing values for product name with unknown because it's not clear to assume a frequent category\n",
    "df['brand'] =df['brand'].fillna(\"unknown\") \n"
   ]
  },
  {
   "cell_type": "code",
   "execution_count": 19,
   "metadata": {},
   "outputs": [
    {
     "data": {
      "text/plain": [
       "0"
      ]
     },
     "execution_count": 19,
     "metadata": {},
     "output_type": "execute_result"
    }
   ],
   "source": [
    "df['product_name'].isnull().sum() # this is confirmation that columns are filled in with unknown "
   ]
  },
  {
   "cell_type": "code",
   "execution_count": 20,
   "metadata": {},
   "outputs": [],
   "source": [
    "#cleaning price column & removing $ from entire dataframe\n",
    "# removing '' empty square from entire data frame and filling in with missing values \n",
    "colstocheck = df.columns\n",
    "df[colstocheck] = df[colstocheck].replace({'\\$':''}, regex = True) \n",
    "df[colstocheck] = df[colstocheck].replace({'':np.nan}, regex = True)"
   ]
  },
  {
   "cell_type": "code",
   "execution_count": 21,
   "metadata": {},
   "outputs": [
    {
     "data": {
      "text/html": [
       "<div>\n",
       "<style scoped>\n",
       "    .dataframe tbody tr th:only-of-type {\n",
       "        vertical-align: middle;\n",
       "    }\n",
       "\n",
       "    .dataframe tbody tr th {\n",
       "        vertical-align: top;\n",
       "    }\n",
       "\n",
       "    .dataframe thead th {\n",
       "        text-align: right;\n",
       "    }\n",
       "</style>\n",
       "<table border=\"1\" class=\"dataframe\">\n",
       "  <thead>\n",
       "    <tr style=\"text-align: right;\">\n",
       "      <th></th>\n",
       "      <th>product_name</th>\n",
       "      <th>brand</th>\n",
       "      <th>price</th>\n",
       "      <th>mo_sales</th>\n",
       "      <th>d_sales</th>\n",
       "      <th>mo_revenue</th>\n",
       "      <th>date_first_available</th>\n",
       "      <th>net</th>\n",
       "      <th>rating_number</th>\n",
       "      <th>rating</th>\n",
       "      <th>fees</th>\n",
       "      <th>rank</th>\n",
       "      <th>category</th>\n",
       "      <th>asin</th>\n",
       "      <th>link</th>\n",
       "    </tr>\n",
       "  </thead>\n",
       "  <tbody>\n",
       "    <tr>\n",
       "      <th>0</th>\n",
       "      <td>Organic Bath Bombs - 25 Extra Large Pcs + 3 Bu...</td>\n",
       "      <td>Lagunamoon</td>\n",
       "      <td>23.99</td>\n",
       "      <td>3768</td>\n",
       "      <td>125</td>\n",
       "      <td>90394</td>\n",
       "      <td>03/08/2020</td>\n",
       "      <td>14.6</td>\n",
       "      <td>4550</td>\n",
       "      <td>4.4</td>\n",
       "      <td>9.39</td>\n",
       "      <td>6475.0</td>\n",
       "      <td>Beauty &amp; Personal Care</td>\n",
       "      <td>B085NJ7ZNN</td>\n",
       "      <td>https://www.amazon.com/dp/B085NJ7ZNN</td>\n",
       "    </tr>\n",
       "    <tr>\n",
       "      <th>1</th>\n",
       "      <td>Bath Bombs 7 Natural Bath Bomb Gift Set Handma...</td>\n",
       "      <td>STNTUS INNOVATIONS</td>\n",
       "      <td>14.99</td>\n",
       "      <td>3082</td>\n",
       "      <td>102</td>\n",
       "      <td>46199</td>\n",
       "      <td>06/11/2019</td>\n",
       "      <td>7.6</td>\n",
       "      <td>1546</td>\n",
       "      <td>4.6</td>\n",
       "      <td>7.39</td>\n",
       "      <td>5648.0</td>\n",
       "      <td>Beauty &amp; Personal Care</td>\n",
       "      <td>B07Q6BLNT6</td>\n",
       "      <td>https://www.amazon.com/dp/B07Q6BLNT6</td>\n",
       "    </tr>\n",
       "    <tr>\n",
       "      <th>2</th>\n",
       "      <td>LifeAround2Angels Bath Bombs Gift Set 12 USA m...</td>\n",
       "      <td>Lifearound2angels</td>\n",
       "      <td>21.44</td>\n",
       "      <td>11256</td>\n",
       "      <td>375</td>\n",
       "      <td>241329</td>\n",
       "      <td>01/25/2017</td>\n",
       "      <td>12.43</td>\n",
       "      <td>40630</td>\n",
       "      <td>4.8</td>\n",
       "      <td>9.01</td>\n",
       "      <td>672.0</td>\n",
       "      <td>Beauty &amp; Personal Care</td>\n",
       "      <td>B01MFGN8S5</td>\n",
       "      <td>https://www.amazon.com/dp/B01MFGN8S5</td>\n",
       "    </tr>\n",
       "    <tr>\n",
       "      <th>3</th>\n",
       "      <td>Nagaliving Bath Bombs Gift Set 10 Organic Bubb...</td>\n",
       "      <td>nagaliving</td>\n",
       "      <td>9.99</td>\n",
       "      <td>4460</td>\n",
       "      <td>148</td>\n",
       "      <td>44555</td>\n",
       "      <td>11/11/2019</td>\n",
       "      <td>4.05</td>\n",
       "      <td>2634</td>\n",
       "      <td>4.4</td>\n",
       "      <td>5.94</td>\n",
       "      <td>5041.0</td>\n",
       "      <td>Beauty &amp; Personal Care</td>\n",
       "      <td>B081DGZP4B</td>\n",
       "      <td>https://www.amazon.com/dp/B081DGZP4B</td>\n",
       "    </tr>\n",
       "    <tr>\n",
       "      <th>4</th>\n",
       "      <td>Bath Bombs for Women - 24 All Natural BathBomb...</td>\n",
       "      <td>Mineral Me California</td>\n",
       "      <td>25.45</td>\n",
       "      <td>1638</td>\n",
       "      <td>54</td>\n",
       "      <td>41687</td>\n",
       "      <td>08/17/2020</td>\n",
       "      <td>14.9</td>\n",
       "      <td>2317</td>\n",
       "      <td>4.7</td>\n",
       "      <td>10.55</td>\n",
       "      <td>9033.0</td>\n",
       "      <td>Beauty &amp; Personal Care</td>\n",
       "      <td>B08G4DB4DB</td>\n",
       "      <td>https://www.amazon.com/dp/B08G4DB4DB</td>\n",
       "    </tr>\n",
       "    <tr>\n",
       "      <th>...</th>\n",
       "      <td>...</td>\n",
       "      <td>...</td>\n",
       "      <td>...</td>\n",
       "      <td>...</td>\n",
       "      <td>...</td>\n",
       "      <td>...</td>\n",
       "      <td>...</td>\n",
       "      <td>...</td>\n",
       "      <td>...</td>\n",
       "      <td>...</td>\n",
       "      <td>...</td>\n",
       "      <td>...</td>\n",
       "      <td>...</td>\n",
       "      <td>...</td>\n",
       "      <td>...</td>\n",
       "    </tr>\n",
       "    <tr>\n",
       "      <th>5110</th>\n",
       "      <td>Queen Lashes by Fitqueen Vegan &amp; Cruelty free ...</td>\n",
       "      <td>Generic</td>\n",
       "      <td>11.98</td>\n",
       "      <td>NaN</td>\n",
       "      <td>NaN</td>\n",
       "      <td>NaN</td>\n",
       "      <td>06/21/2022</td>\n",
       "      <td>NaN</td>\n",
       "      <td>4</td>\n",
       "      <td>5.0</td>\n",
       "      <td>NaN</td>\n",
       "      <td>1065336.0</td>\n",
       "      <td>NaN</td>\n",
       "      <td>B0B2VKJ95G</td>\n",
       "      <td>https://www.amazon.com/dp/B0B2VKJ95G</td>\n",
       "    </tr>\n",
       "    <tr>\n",
       "      <th>5111</th>\n",
       "      <td>Colored Mascara Waterproof and Smudgeproof Lon...</td>\n",
       "      <td>Fpoqbod</td>\n",
       "      <td>3.59</td>\n",
       "      <td>NaN</td>\n",
       "      <td>NaN</td>\n",
       "      <td>NaN</td>\n",
       "      <td>NaN</td>\n",
       "      <td>NaN</td>\n",
       "      <td>0</td>\n",
       "      <td>NaN</td>\n",
       "      <td>NaN</td>\n",
       "      <td>NaN</td>\n",
       "      <td>NaN</td>\n",
       "      <td>B09QC8P6ZH</td>\n",
       "      <td>https://www.amazon.com/dp/B09QC8P6ZH</td>\n",
       "    </tr>\n",
       "    <tr>\n",
       "      <th>5112</th>\n",
       "      <td>Beauty Without Cruelty Paraben-free Mascara Fu...</td>\n",
       "      <td>Beauty Without Cruelty</td>\n",
       "      <td>17.04</td>\n",
       "      <td>2</td>\n",
       "      <td>0</td>\n",
       "      <td>34</td>\n",
       "      <td>10/13/2013</td>\n",
       "      <td>10.94</td>\n",
       "      <td>365</td>\n",
       "      <td>4.3</td>\n",
       "      <td>6.10</td>\n",
       "      <td>320863.0</td>\n",
       "      <td>Beauty &amp; Personal Care</td>\n",
       "      <td>B00B7V3XPU</td>\n",
       "      <td>https://www.amazon.com/dp/B00B7V3XPU</td>\n",
       "    </tr>\n",
       "    <tr>\n",
       "      <th>5113</th>\n",
       "      <td>PuroBIO Certified Organic Impeccable Restructu...</td>\n",
       "      <td>puroBIO Certified Organic Cosmetics</td>\n",
       "      <td>16.90</td>\n",
       "      <td>0</td>\n",
       "      <td>0</td>\n",
       "      <td>0</td>\n",
       "      <td>02/14/2019</td>\n",
       "      <td>11.44</td>\n",
       "      <td>61</td>\n",
       "      <td>3.6</td>\n",
       "      <td>5.46</td>\n",
       "      <td>658156.0</td>\n",
       "      <td>Beauty &amp; Personal Care</td>\n",
       "      <td>B00Z5ODHUG</td>\n",
       "      <td>https://www.amazon.com/dp/B00Z5ODHUG</td>\n",
       "    </tr>\n",
       "    <tr>\n",
       "      <th>5114</th>\n",
       "      <td>Ardorlove Colored Eyelash Mascara - 7 Colors W...</td>\n",
       "      <td>Ardorlove</td>\n",
       "      <td>20.99</td>\n",
       "      <td>NaN</td>\n",
       "      <td>NaN</td>\n",
       "      <td>NaN</td>\n",
       "      <td>07/27/2022</td>\n",
       "      <td>NaN</td>\n",
       "      <td>0</td>\n",
       "      <td>NaN</td>\n",
       "      <td>NaN</td>\n",
       "      <td>610532.0</td>\n",
       "      <td>NaN</td>\n",
       "      <td>B094J53JCQ</td>\n",
       "      <td>https://www.amazon.com/dp/B094J53JCQ</td>\n",
       "    </tr>\n",
       "  </tbody>\n",
       "</table>\n",
       "<p>5115 rows × 15 columns</p>\n",
       "</div>"
      ],
      "text/plain": [
       "                                           product_name  \\\n",
       "0     Organic Bath Bombs - 25 Extra Large Pcs + 3 Bu...   \n",
       "1     Bath Bombs 7 Natural Bath Bomb Gift Set Handma...   \n",
       "2     LifeAround2Angels Bath Bombs Gift Set 12 USA m...   \n",
       "3     Nagaliving Bath Bombs Gift Set 10 Organic Bubb...   \n",
       "4     Bath Bombs for Women - 24 All Natural BathBomb...   \n",
       "...                                                 ...   \n",
       "5110  Queen Lashes by Fitqueen Vegan & Cruelty free ...   \n",
       "5111  Colored Mascara Waterproof and Smudgeproof Lon...   \n",
       "5112  Beauty Without Cruelty Paraben-free Mascara Fu...   \n",
       "5113  PuroBIO Certified Organic Impeccable Restructu...   \n",
       "5114  Ardorlove Colored Eyelash Mascara - 7 Colors W...   \n",
       "\n",
       "                                    brand  price mo_sales d_sales mo_revenue  \\\n",
       "0                              Lagunamoon  23.99     3768     125      90394   \n",
       "1                      STNTUS INNOVATIONS  14.99     3082     102      46199   \n",
       "2                       Lifearound2angels  21.44    11256     375     241329   \n",
       "3                              nagaliving   9.99     4460     148      44555   \n",
       "4                   Mineral Me California  25.45     1638      54      41687   \n",
       "...                                   ...    ...      ...     ...        ...   \n",
       "5110                              Generic  11.98      NaN     NaN        NaN   \n",
       "5111                              Fpoqbod   3.59      NaN     NaN        NaN   \n",
       "5112               Beauty Without Cruelty  17.04        2       0         34   \n",
       "5113  puroBIO Certified Organic Cosmetics  16.90        0       0          0   \n",
       "5114                            Ardorlove  20.99      NaN     NaN        NaN   \n",
       "\n",
       "     date_first_available    net  rating_number  rating   fees       rank  \\\n",
       "0              03/08/2020   14.6           4550     4.4   9.39     6475.0   \n",
       "1              06/11/2019    7.6           1546     4.6   7.39     5648.0   \n",
       "2              01/25/2017  12.43          40630     4.8   9.01      672.0   \n",
       "3              11/11/2019   4.05           2634     4.4   5.94     5041.0   \n",
       "4              08/17/2020   14.9           2317     4.7  10.55     9033.0   \n",
       "...                   ...    ...            ...     ...    ...        ...   \n",
       "5110           06/21/2022    NaN              4     5.0    NaN  1065336.0   \n",
       "5111                  NaN    NaN              0     NaN    NaN        NaN   \n",
       "5112           10/13/2013  10.94            365     4.3   6.10   320863.0   \n",
       "5113           02/14/2019  11.44             61     3.6   5.46   658156.0   \n",
       "5114           07/27/2022    NaN              0     NaN    NaN   610532.0   \n",
       "\n",
       "                    category        asin                                  link  \n",
       "0     Beauty & Personal Care  B085NJ7ZNN  https://www.amazon.com/dp/B085NJ7ZNN  \n",
       "1     Beauty & Personal Care  B07Q6BLNT6  https://www.amazon.com/dp/B07Q6BLNT6  \n",
       "2     Beauty & Personal Care  B01MFGN8S5  https://www.amazon.com/dp/B01MFGN8S5  \n",
       "3     Beauty & Personal Care  B081DGZP4B  https://www.amazon.com/dp/B081DGZP4B  \n",
       "4     Beauty & Personal Care  B08G4DB4DB  https://www.amazon.com/dp/B08G4DB4DB  \n",
       "...                      ...         ...                                   ...  \n",
       "5110                     NaN  B0B2VKJ95G  https://www.amazon.com/dp/B0B2VKJ95G  \n",
       "5111                     NaN  B09QC8P6ZH  https://www.amazon.com/dp/B09QC8P6ZH  \n",
       "5112  Beauty & Personal Care  B00B7V3XPU  https://www.amazon.com/dp/B00B7V3XPU  \n",
       "5113  Beauty & Personal Care  B00Z5ODHUG  https://www.amazon.com/dp/B00Z5ODHUG  \n",
       "5114                     NaN  B094J53JCQ  https://www.amazon.com/dp/B094J53JCQ  \n",
       "\n",
       "[5115 rows x 15 columns]"
      ]
     },
     "execution_count": 21,
     "metadata": {},
     "output_type": "execute_result"
    }
   ],
   "source": [
    "df"
   ]
  },
  {
   "cell_type": "code",
   "execution_count": 22,
   "metadata": {},
   "outputs": [
    {
     "data": {
      "text/plain": [
       "28"
      ]
     },
     "execution_count": 22,
     "metadata": {},
     "output_type": "execute_result"
    }
   ],
   "source": [
    "df['price'] = df['price'].astype(float) #converting the price column to it's correct type as float\n",
    "df['price']\n",
    "df['price'].isnull().sum() #checking for missing values in the price column "
   ]
  },
  {
   "cell_type": "markdown",
   "metadata": {},
   "source": [
    "#### **Performing a statistical test to fill in the 28 missing values in the price column** \n",
    "![stats](https://media.giphy.com/media/l378c04F2fjeZ7vH2/giphy.gif)"
   ]
  },
  {
   "cell_type": "code",
   "execution_count": 23,
   "metadata": {},
   "outputs": [
    {
     "data": {
      "text/plain": [
       "array([[<AxesSubplot:title={'center':'price'}>,\n",
       "        <AxesSubplot:title={'center':'rating_number'}>],\n",
       "       [<AxesSubplot:title={'center':'rating'}>,\n",
       "        <AxesSubplot:title={'center':'rank'}>]], dtype=object)"
      ]
     },
     "execution_count": 23,
     "metadata": {},
     "output_type": "execute_result"
    },
    {
     "data": {
      "image/png": "[encoded data removed]",
      "text/plain": [
       "<Figure size 432x288 with 4 Axes>"
      ]
     },
     "metadata": {
      "needs_background": "light"
     },
     "output_type": "display_data"
    }
   ],
   "source": [
    "df.hist() #shows that the numerical data is skewed for each column"
   ]
  },
  {
   "cell_type": "markdown",
   "metadata": {},
   "source": [
    " ### Column Observations\n",
    " * price column, rating_number, product_rank is right skewed \n",
    " * rating column is left skewed\n",
    " * moving forward, I will use logarthmic transformation on the data because these features are not only skewed, but also don't follow a linear distribution\n",
    " * the library I will use to complete a log transform with be PowerTransfomer. \"This uses logarithmic functions under the hood that helps minimize skewness and map any distribution to a normal one as close to possible.\" Reference: [PowerTransformation](https://towardsdatascience.com/how-to-differentiate-between-scaling-normalization-and-log-transformations-69873d365a94)"
   ]
  },
  {
   "cell_type": "code",
   "execution_count": 24,
   "metadata": {},
   "outputs": [],
   "source": [
    "#since data is not linear distribution it would be unwise to use mean and standard deviation to scale it.\n",
    "\n",
    "\n",
    "#init\n",
    "pt = PowerTransformer()\n",
    "\n",
    "#df[\"price\"] = pd.DataFrame(\n",
    "#    pt.fit_transform(df[\"price\"]), columns= [\"price\"])\n",
    "\n",
    "\n",
    "#df[\"price\"].hist(figsize=(14,5))"
   ]
  },
  {
   "cell_type": "code",
   "execution_count": 25,
   "metadata": {},
   "outputs": [
    {
     "ename": "KeyError",
     "evalue": "\"['monthly_sales', 'daily_sales', 'monthly_revenue', 'product_rank'] not in index\"",
     "output_type": "error",
     "traceback": [
      "\u001b[1;31m---------------------------------------------------------------------------\u001b[0m",
      "\u001b[1;31mKeyError\u001b[0m                                  Traceback (most recent call last)",
      "\u001b[1;32mc:\\Users\\Alexandria\\Documents\\Github\\Amazon_Keywords\\version1.1\\v1\\keywords_ecom.ipynb Cell 36\u001b[0m in \u001b[0;36m<cell line: 1>\u001b[1;34m()\u001b[0m\n\u001b[0;32m      <a href='vscode-notebook-cell:/c%3A/Users/Alexandria/Documents/Github/Amazon_Keywords/version1.1/v1/keywords_ecom.ipynb#X51sZmlsZQ%3D%3D?line=0'>1</a>\u001b[0m df[[\u001b[39m\"\u001b[39m\u001b[39mprice\u001b[39m\u001b[39m\"\u001b[39m, \u001b[39m\"\u001b[39m\u001b[39mmonthly_sales\u001b[39m\u001b[39m\"\u001b[39m, \u001b[39m\"\u001b[39m\u001b[39mdaily_sales\u001b[39m\u001b[39m\"\u001b[39m, \u001b[39m\"\u001b[39m\u001b[39mmonthly_revenue\u001b[39m\u001b[39m\"\u001b[39m, \u001b[39m\"\u001b[39m\u001b[39mnet\u001b[39m\u001b[39m\"\u001b[39m, \u001b[39m\"\u001b[39m\u001b[39mrating\u001b[39m\u001b[39m\"\u001b[39m, \u001b[39m\"\u001b[39m\u001b[39mfees\u001b[39m\u001b[39m\"\u001b[39m, \u001b[39m\"\u001b[39m\u001b[39mproduct_rank\u001b[39m\u001b[39m\"\u001b[39m]] \u001b[39m=\u001b[39m pd\u001b[39m.\u001b[39mDataFrame(\n\u001b[1;32m----> <a href='vscode-notebook-cell:/c%3A/Users/Alexandria/Documents/Github/Amazon_Keywords/version1.1/v1/keywords_ecom.ipynb#X51sZmlsZQ%3D%3D?line=1'>2</a>\u001b[0m     pt\u001b[39m.\u001b[39mfit_transform(df[[\u001b[39m\"\u001b[39;49m\u001b[39mprice\u001b[39;49m\u001b[39m\"\u001b[39;49m, \u001b[39m\"\u001b[39;49m\u001b[39mmonthly_sales\u001b[39;49m\u001b[39m\"\u001b[39;49m, \u001b[39m\"\u001b[39;49m\u001b[39mdaily_sales\u001b[39;49m\u001b[39m\"\u001b[39;49m,\u001b[39m\"\u001b[39;49m\u001b[39mmonthly_revenue\u001b[39;49m\u001b[39m\"\u001b[39;49m, \u001b[39m\"\u001b[39;49m\u001b[39mnet\u001b[39;49m\u001b[39m\"\u001b[39;49m, \u001b[39m\"\u001b[39;49m\u001b[39mrating\u001b[39;49m\u001b[39m\"\u001b[39;49m, \u001b[39m\"\u001b[39;49m\u001b[39mfees\u001b[39;49m\u001b[39m\"\u001b[39;49m, \u001b[39m\"\u001b[39;49m\u001b[39mproduct_rank\u001b[39;49m\u001b[39m\"\u001b[39;49m]]), columns\u001b[39m=\u001b[39m [[\u001b[39m\"\u001b[39m\u001b[39mprice\u001b[39m\u001b[39m\"\u001b[39m, \u001b[39m\"\u001b[39m\u001b[39mmonthly_sales\u001b[39m\u001b[39m\"\u001b[39m,\u001b[39m\"\u001b[39m\u001b[39mdaily_sales\u001b[39m\u001b[39m\"\u001b[39m,\u001b[39m\"\u001b[39m\u001b[39mmonthly_revenue\u001b[39m\u001b[39m\"\u001b[39m, \u001b[39m\"\u001b[39m\u001b[39mnet\u001b[39m\u001b[39m\"\u001b[39m, \u001b[39m\"\u001b[39m\u001b[39mrating\u001b[39m\u001b[39m\"\u001b[39m, \u001b[39m\"\u001b[39m\u001b[39mfees\u001b[39m\u001b[39m\"\u001b[39m, \u001b[39m\"\u001b[39m\u001b[39mproduct_rank\u001b[39m\u001b[39m\"\u001b[39m]])\n\u001b[0;32m      <a href='vscode-notebook-cell:/c%3A/Users/Alexandria/Documents/Github/Amazon_Keywords/version1.1/v1/keywords_ecom.ipynb#X51sZmlsZQ%3D%3D?line=2'>3</a>\u001b[0m \u001b[39m#performing the pwer transform on all the numerical columns to help minimize skewness and map any distrbution to normal one as possible\u001b[39;00m\n\u001b[0;32m      <a href='vscode-notebook-cell:/c%3A/Users/Alexandria/Documents/Github/Amazon_Keywords/version1.1/v1/keywords_ecom.ipynb#X51sZmlsZQ%3D%3D?line=4'>5</a>\u001b[0m df[[\u001b[39m\"\u001b[39m\u001b[39mprice\u001b[39m\u001b[39m\"\u001b[39m,\u001b[39m\"\u001b[39m\u001b[39mmonthly_sales\u001b[39m\u001b[39m\"\u001b[39m,\u001b[39m\"\u001b[39m\u001b[39mdaily_sales\u001b[39m\u001b[39m\"\u001b[39m,\u001b[39m\"\u001b[39m\u001b[39mmonthly_revenue\u001b[39m\u001b[39m\"\u001b[39m, \u001b[39m\"\u001b[39m\u001b[39mnet\u001b[39m\u001b[39m\"\u001b[39m, \u001b[39m\"\u001b[39m\u001b[39mrating\u001b[39m\u001b[39m\"\u001b[39m, \u001b[39m\"\u001b[39m\u001b[39mfees\u001b[39m\u001b[39m\"\u001b[39m, \u001b[39m\"\u001b[39m\u001b[39mproduct_rank\u001b[39m\u001b[39m\"\u001b[39m]]\u001b[39m.\u001b[39mhist(figsize\u001b[39m=\u001b[39m(\u001b[39m14\u001b[39m,\u001b[39m5\u001b[39m))\n",
      "File \u001b[1;32mc:\\Users\\Alexandria\\AppData\\Local\\Programs\\Python\\Python310\\lib\\site-packages\\pandas\\core\\frame.py:3511\u001b[0m, in \u001b[0;36mDataFrame.__getitem__\u001b[1;34m(self, key)\u001b[0m\n\u001b[0;32m   3509\u001b[0m     \u001b[39mif\u001b[39;00m is_iterator(key):\n\u001b[0;32m   3510\u001b[0m         key \u001b[39m=\u001b[39m \u001b[39mlist\u001b[39m(key)\n\u001b[1;32m-> 3511\u001b[0m     indexer \u001b[39m=\u001b[39m \u001b[39mself\u001b[39;49m\u001b[39m.\u001b[39;49mcolumns\u001b[39m.\u001b[39;49m_get_indexer_strict(key, \u001b[39m\"\u001b[39;49m\u001b[39mcolumns\u001b[39;49m\u001b[39m\"\u001b[39;49m)[\u001b[39m1\u001b[39m]\n\u001b[0;32m   3513\u001b[0m \u001b[39m# take() does not accept boolean indexers\u001b[39;00m\n\u001b[0;32m   3514\u001b[0m \u001b[39mif\u001b[39;00m \u001b[39mgetattr\u001b[39m(indexer, \u001b[39m\"\u001b[39m\u001b[39mdtype\u001b[39m\u001b[39m\"\u001b[39m, \u001b[39mNone\u001b[39;00m) \u001b[39m==\u001b[39m \u001b[39mbool\u001b[39m:\n",
      "File \u001b[1;32mc:\\Users\\Alexandria\\AppData\\Local\\Programs\\Python\\Python310\\lib\\site-packages\\pandas\\core\\indexes\\base.py:5782\u001b[0m, in \u001b[0;36mIndex._get_indexer_strict\u001b[1;34m(self, key, axis_name)\u001b[0m\n\u001b[0;32m   5779\u001b[0m \u001b[39melse\u001b[39;00m:\n\u001b[0;32m   5780\u001b[0m     keyarr, indexer, new_indexer \u001b[39m=\u001b[39m \u001b[39mself\u001b[39m\u001b[39m.\u001b[39m_reindex_non_unique(keyarr)\n\u001b[1;32m-> 5782\u001b[0m \u001b[39mself\u001b[39;49m\u001b[39m.\u001b[39;49m_raise_if_missing(keyarr, indexer, axis_name)\n\u001b[0;32m   5784\u001b[0m keyarr \u001b[39m=\u001b[39m \u001b[39mself\u001b[39m\u001b[39m.\u001b[39mtake(indexer)\n\u001b[0;32m   5785\u001b[0m \u001b[39mif\u001b[39;00m \u001b[39misinstance\u001b[39m(key, Index):\n\u001b[0;32m   5786\u001b[0m     \u001b[39m# GH 42790 - Preserve name from an Index\u001b[39;00m\n",
      "File \u001b[1;32mc:\\Users\\Alexandria\\AppData\\Local\\Programs\\Python\\Python310\\lib\\site-packages\\pandas\\core\\indexes\\base.py:5845\u001b[0m, in \u001b[0;36mIndex._raise_if_missing\u001b[1;34m(self, key, indexer, axis_name)\u001b[0m\n\u001b[0;32m   5842\u001b[0m     \u001b[39mraise\u001b[39;00m \u001b[39mKeyError\u001b[39;00m(\u001b[39mf\u001b[39m\u001b[39m\"\u001b[39m\u001b[39mNone of [\u001b[39m\u001b[39m{\u001b[39;00mkey\u001b[39m}\u001b[39;00m\u001b[39m] are in the [\u001b[39m\u001b[39m{\u001b[39;00maxis_name\u001b[39m}\u001b[39;00m\u001b[39m]\u001b[39m\u001b[39m\"\u001b[39m)\n\u001b[0;32m   5844\u001b[0m not_found \u001b[39m=\u001b[39m \u001b[39mlist\u001b[39m(ensure_index(key)[missing_mask\u001b[39m.\u001b[39mnonzero()[\u001b[39m0\u001b[39m]]\u001b[39m.\u001b[39munique())\n\u001b[1;32m-> 5845\u001b[0m \u001b[39mraise\u001b[39;00m \u001b[39mKeyError\u001b[39;00m(\u001b[39mf\u001b[39m\u001b[39m\"\u001b[39m\u001b[39m{\u001b[39;00mnot_found\u001b[39m}\u001b[39;00m\u001b[39m not in index\u001b[39m\u001b[39m\"\u001b[39m)\n",
      "\u001b[1;31mKeyError\u001b[0m: \"['monthly_sales', 'daily_sales', 'monthly_revenue', 'product_rank'] not in index\""
     ]
    }
   ],
   "source": [
    "df[[\"price\", \"monthly_sales\", \"daily_sales\", \"monthly_revenue\", \"net\", \"rating\", \"fees\", \"product_rank\"]] = pd.DataFrame(\n",
    "    pt.fit_transform(df[[\"price\", \"monthly_sales\", \"daily_sales\",\"monthly_revenue\", \"net\", \"rating\", \"fees\", \"product_rank\"]]), columns= [[\"price\", \"monthly_sales\",\"daily_sales\",\"monthly_revenue\", \"net\", \"rating\", \"fees\", \"product_rank\"]])\n",
    "#performing the pwer transform on all the numerical columns to help minimize skewness and map any distrbution to normal one as possible\n",
    "\n",
    "df[[\"price\",\"monthly_sales\",\"daily_sales\",\"monthly_revenue\", \"net\", \"rating\", \"fees\", \"product_rank\"]].hist(figsize=(14,5)) #visualizing the new logarthimic data "
   ]
  },
  {
   "cell_type": "markdown",
   "metadata": {},
   "source": [
    " For all the numerical columns, the data is now looks much better  and falls much more even."
   ]
  },
  {
   "cell_type": "code",
   "execution_count": null,
   "metadata": {},
   "outputs": [],
   "source": [
    "for a in df['price']: #checking for values over 700\n",
    "    if a > 700:\n",
    "        print(a)"
   ]
  },
  {
   "cell_type": "code",
   "execution_count": null,
   "metadata": {},
   "outputs": [],
   "source": [
    "for a in df['price']: #checking for total values over 300 \n",
    "    if a > 300:\n",
    "        print(a)"
   ]
  },
  {
   "cell_type": "code",
   "execution_count": null,
   "metadata": {},
   "outputs": [
    {
     "data": {
      "text/plain": [
       "28"
      ]
     },
     "execution_count": 27,
     "metadata": {},
     "output_type": "execute_result"
    }
   ],
   "source": [
    "df['price'].isnull().sum()"
   ]
  },
  {
   "cell_type": "code",
   "execution_count": null,
   "metadata": {},
   "outputs": [
    {
     "name": "stdout",
     "output_type": "stream",
     "text": [
      "1.7878802865597175e-16\n"
     ]
    },
    {
     "data": {
      "text/plain": [
       "0"
      ]
     },
     "execution_count": 28,
     "metadata": {},
     "output_type": "execute_result"
    }
   ],
   "source": [
    "#since the data is now transformed where each numerical has more of a normal distrbution, I will use mean to fill in the missing values for the numerical columns\n",
    "#defining a function to impute median in columns \n",
    "def impute_mean(series):\n",
    "    return series.fillna(series.mean()) # creating a function that will impute mean for every numerical column\n",
    "\n",
    "print(df['price'].mean())\n",
    "df.price = df['price'].transform(impute_mean) \n",
    "df['price'].isnull().sum()"
   ]
  },
  {
   "cell_type": "markdown",
   "metadata": {},
   "source": [
    " **Monthly Sales** \n",
    "* Converting Type to float \n",
    "* Imputing mean in missing values"
   ]
  },
  {
   "cell_type": "code",
   "execution_count": null,
   "metadata": {},
   "outputs": [
    {
     "data": {
      "text/plain": [
       "716"
      ]
     },
     "execution_count": 29,
     "metadata": {},
     "output_type": "execute_result"
    }
   ],
   "source": [
    "df['monthly_sales']\n",
    "df['monthly_sales'] = df['monthly_sales'].astype(float)\n",
    "df['monthly_sales']\n",
    "df['monthly_sales'].isnull().sum() #checking for missing values "
   ]
  },
  {
   "cell_type": "code",
   "execution_count": null,
   "metadata": {},
   "outputs": [],
   "source": [
    "for a in df['monthly_sales']: #checking for values over 40000\n",
    "    if a > 40000:\n",
    "        print(a)"
   ]
  },
  {
   "cell_type": "code",
   "execution_count": null,
   "metadata": {},
   "outputs": [
    {
     "data": {
      "text/plain": [
       "0"
      ]
     },
     "execution_count": 31,
     "metadata": {},
     "output_type": "execute_result"
    }
   ],
   "source": [
    "df['monthly_sales'] = df['monthly_sales'].transform(impute_mean) #imputing the mean for the missing values since now are data is not skewed \n",
    "df['monthly_sales'].isnull().sum()"
   ]
  },
  {
   "cell_type": "markdown",
   "metadata": {},
   "source": [
    " **Daily Sales** \n",
    "* Converting data type to float \n",
    "* Running statistical test - histogram for the value of missing values\n",
    "* Filling in 717 missing values with mean\n",
    "\n",
    " **Mo. Revenue**\n",
    "* Adjusting and cleaning nan values\n",
    "* Running statistical test - histogram for the value of missing values \n",
    "* Replacing missing values with mean\n",
    "\n",
    "**Date First Available Column**\n",
    "* Filling in missing values with unknown\n",
    "\n",
    "  **Net Column**\n",
    "\n",
    "* Converting data type to float\n",
    "* Running statistical test - histogram for the value of the missing values\n",
    "* Filling in missing values with mean\n",
    "  \n",
    "![spicydata](https://media.giphy.com/media/FSzLVme5Y3n3LMOiqP/giphy.gif)\n",
    "\n",
    "\n",
    " **Rating**\n",
    "* Running statistical test - histogram for the value of the missing values\n",
    "* Filling in 414 misssing values with mean \n",
    "  \n",
    "**Fees Column**\n",
    "* Converting data type to float\n",
    "* Filling in missing values with mean\n",
    "\n",
    " **Rank Column**\n",
    "* Filling in missing values mean \n",
    "  \n",
    " **Category**\n",
    "* Filling in missing values with the value \"unknown\""
   ]
  },
  {
   "cell_type": "code",
   "execution_count": null,
   "metadata": {},
   "outputs": [
    {
     "data": {
      "text/plain": [
       "0"
      ]
     },
     "execution_count": 32,
     "metadata": {},
     "output_type": "execute_result"
    }
   ],
   "source": [
    "df['daily_sales']\n",
    "df['daily_sales'].isnull().sum() # looking at missing values \n",
    "df['daily_sales'] = df['daily_sales'].astype(float) #converting column to correct data atype float\n",
    "df['daily_sales'].dtype\n",
    "df['daily_sales'] = df['daily_sales'].transform(impute_mean) # filling in missing values with mean\n",
    "df['daily_sales'].isnull().sum() # double checking missing values are filled "
   ]
  },
  {
   "cell_type": "code",
   "execution_count": null,
   "metadata": {},
   "outputs": [],
   "source": [
    "df['monthly_revenue']\n",
    "df['monthly_revenue'].unique() \n",
    "df['monthly_revenue'].isnull().sum()\n",
    "df['monthly_revenue'] = df['monthly_revenue'].astype(float) #converting column to float\n",
    "df['monthly_revenue'].hist()"
   ]
  },
  {
   "cell_type": "code",
   "execution_count": null,
   "metadata": {},
   "outputs": [
    {
     "data": {
      "text/plain": [
       "0"
      ]
     },
     "execution_count": 34,
     "metadata": {},
     "output_type": "execute_result"
    }
   ],
   "source": [
    "df['monthly_revenue'] = df['monthly_revenue'].transform(impute_mean) # filling in missing values with mean\n",
    "df['monthly_revenue'].isnull().sum()"
   ]
  },
  {
   "cell_type": "code",
   "execution_count": null,
   "metadata": {},
   "outputs": [
    {
     "data": {
      "text/plain": [
       "0"
      ]
     },
     "execution_count": 35,
     "metadata": {},
     "output_type": "execute_result"
    }
   ],
   "source": [
    "df['date_first_available']\n",
    "df['date_first_available'].isnull().sum() #checking for missing values\n",
    "df['date_first_available'] =df['date_first_available'].fillna(\"unknown\") # filling in missing dates with unknown because we can't assume date \n",
    "df['date_first_available'].isnull().sum()"
   ]
  },
  {
   "cell_type": "code",
   "execution_count": null,
   "metadata": {},
   "outputs": [],
   "source": [
    "df['net']\n",
    "df['net'].isnull().sum()\n",
    "df['net'] = df['net'].astype(float) #converting column to float\n"
   ]
  },
  {
   "cell_type": "code",
   "execution_count": null,
   "metadata": {},
   "outputs": [
    {
     "data": {
      "text/plain": [
       "0       7.737632e-01\n",
       "1       1.734635e-02\n",
       "2       5.587473e-01\n",
       "3      -4.727414e-01\n",
       "4       8.024451e-01\n",
       "            ...     \n",
       "5110   -2.933510e-16\n",
       "5111   -2.933510e-16\n",
       "5112    4.023187e-01\n",
       "5113    4.557028e-01\n",
       "5114   -2.933510e-16\n",
       "Name: net, Length: 5115, dtype: float64"
      ]
     },
     "execution_count": 37,
     "metadata": {},
     "output_type": "execute_result"
    }
   ],
   "source": [
    "df['net'] = df['net'].transform(impute_mean) #data is right skewed will impute with mean\n",
    "df['net']"
   ]
  },
  {
   "cell_type": "code",
   "execution_count": null,
   "metadata": {},
   "outputs": [
    {
     "data": {
      "text/plain": [
       "414"
      ]
     },
     "execution_count": 38,
     "metadata": {},
     "output_type": "execute_result"
    }
   ],
   "source": [
    "df['rating']\n",
    "df['rating'].isnull().sum() # filling in data with mean \n",
    "\n"
   ]
  },
  {
   "cell_type": "code",
   "execution_count": null,
   "metadata": {},
   "outputs": [
    {
     "data": {
      "text/plain": [
       "0"
      ]
     },
     "execution_count": 39,
     "metadata": {},
     "output_type": "execute_result"
    }
   ],
   "source": [
    "df['rating'] = df['rating'].transform(impute_mean) #filling in missing values with mean\n",
    "df['rating'].isnull().sum()"
   ]
  },
  {
   "cell_type": "code",
   "execution_count": null,
   "metadata": {},
   "outputs": [
    {
     "data": {
      "text/plain": [
       "852"
      ]
     },
     "execution_count": 40,
     "metadata": {},
     "output_type": "execute_result"
    }
   ],
   "source": [
    "df['fees']\n",
    "df['fees'].isnull().sum()\n",
    "df['fees'] = df['fees'].astype(float) #convert missing values to float\n",
    "df['fees'].isnull().sum()"
   ]
  },
  {
   "cell_type": "code",
   "execution_count": null,
   "metadata": {},
   "outputs": [
    {
     "data": {
      "text/plain": [
       "0"
      ]
     },
     "execution_count": 41,
     "metadata": {},
     "output_type": "execute_result"
    }
   ],
   "source": [
    "df['fees'] = df['fees'].transform(impute_mean)  #filling in missing values with median since data is even after transformation\n",
    "df['fees'].isnull().sum()"
   ]
  },
  {
   "cell_type": "code",
   "execution_count": null,
   "metadata": {},
   "outputs": [
    {
     "data": {
      "text/plain": [
       "94"
      ]
     },
     "execution_count": 42,
     "metadata": {},
     "output_type": "execute_result"
    }
   ],
   "source": [
    "df['product_rank']\n",
    "df['product_rank'].isnull().sum() # data even after transformation will use mean "
   ]
  },
  {
   "cell_type": "code",
   "execution_count": null,
   "metadata": {},
   "outputs": [
    {
     "data": {
      "text/plain": [
       "0"
      ]
     },
     "execution_count": 43,
     "metadata": {},
     "output_type": "execute_result"
    }
   ],
   "source": [
    "df['product_rank'] = df['product_rank'].transform(impute_mean) #filling in data with mean since data is more balanced after transofmration\n",
    "df['product_rank'].isnull().sum()"
   ]
  },
  {
   "cell_type": "code",
   "execution_count": null,
   "metadata": {},
   "outputs": [
    {
     "data": {
      "text/plain": [
       "product_name            0\n",
       "brand                   0\n",
       "price                   0\n",
       "monthly_sales           0\n",
       "daily_sales             0\n",
       "monthly_revenue         0\n",
       "date_first_available    0\n",
       "net                     0\n",
       "rating_number           0\n",
       "rating                  0\n",
       "fees                    0\n",
       "product_rank            0\n",
       "category                0\n",
       "asin                    0\n",
       "link                    0\n",
       "dtype: int64"
      ]
     },
     "execution_count": 44,
     "metadata": {},
     "output_type": "execute_result"
    }
   ],
   "source": [
    "df['category']\n",
    "df['category'].isnull().sum() #filling in 607 missing values with unknown\n",
    "df['category'] =df['category'].fillna(\"unknown\") #filling in missing values with unknown since there isn't a reason to assume a category-- the product could be any category\n",
    "df['category'].isnull().sum()\n",
    "df.isnull().sum()"
   ]
  },
  {
   "cell_type": "markdown",
   "metadata": {},
   "source": [
    "# All columns are cleaned and wrangled! Wooooohooo!\n",
    "\n",
    "![goldencolumns](https://media.giphy.com/media/MXce2RZOi1tNm/giphy.gif)"
   ]
  },
  {
   "cell_type": "code",
   "execution_count": null,
   "metadata": {},
   "outputs": [],
   "source": [
    "df.to_csv(\"ecom_search_keywords.csv\") "
   ]
  }
 ],
 "metadata": {
  "kernelspec": {
   "display_name": "Python 3.9.12 ('base')",
   "language": "python",
   "name": "python3"
  },
  "language_info": {
   "codemirror_mode": {
    "name": "ipython",
    "version": 3
   },
   "file_extension": ".py",
   "mimetype": "text/x-python",
   "name": "python",
   "nbconvert_exporter": "python",
   "pygments_lexer": "ipython3",
   "version": "3.9.12"
  },
  "orig_nbformat": 4,
  "vscode": {
   "interpreter": {
    "hash": "4909e8d10611629e1195f9984324e309b50aacbe209701fc0f6f3c33fcc501bd"
   }
  }
 },
 "nbformat": 4,
 "nbformat_minor": 2
}
