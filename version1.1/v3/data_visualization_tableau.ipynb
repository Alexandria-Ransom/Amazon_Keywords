{
 "cells": [
  {
   "cell_type": "markdown",
   "metadata": {},
   "source": [
    "# Data Visualization in Tableau\n",
    "\n",
    "[Amazon_Keywords_Tableau_Visualization](https://public.tableau.com/app/profile/alexandria.ransom/viz/Version1_1_V3/Description)"
   ]
  }
 ],
 "metadata": {
  "kernelspec": {
   "display_name": "Python 3.10.5 64-bit",
   "language": "python",
   "name": "python3"
  },
  "language_info": {
   "name": "python",
   "version": "3.10.5"
  },
  "orig_nbformat": 4,
  "vscode": {
   "interpreter": {
    "hash": "9d57f1ab8ab9c8ecc729f48d07171aa92894ec174b42816fa7ae05086db82fe8"
   }
  }
 },
 "nbformat": 4,
 "nbformat_minor": 2
}
